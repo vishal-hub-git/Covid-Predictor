{
  "nbformat": 4,
  "nbformat_minor": 0,
  "metadata": {
    "colab": {
      "name": "Covid_Predictor.ipynb",
      "provenance": []
    },
    "kernelspec": {
      "name": "python3",
      "display_name": "Python 3"
    },
    "language_info": {
      "name": "python"
    }
  },
  "cells": [
    {
      "cell_type": "code",
      "metadata": {
        "id": "mJwOnHo4KiuO"
      },
      "source": [
        "import seaborn as sns\n"
      ],
      "execution_count": null,
      "outputs": []
    },
    {
      "cell_type": "code",
      "metadata": {
        "id": "YlHvWLk0K9By"
      },
      "source": [
        "import pandas as pd"
      ],
      "execution_count": null,
      "outputs": []
    },
    {
      "cell_type": "code",
      "metadata": {
        "id": "oZ_af705K9Eb"
      },
      "source": [
        "df = pd.read_csv('/content/Covid Dataset (2).csv')"
      ],
      "execution_count": null,
      "outputs": []
    },
    {
      "cell_type": "code",
      "metadata": {
        "id": "YZoH6RFtK9HN",
        "colab": {
          "base_uri": "https://localhost:8080/",
          "height": 521
        },
        "outputId": "7982fbdc-7296-4b17-ce04-9b6cc48a9745"
      },
      "source": [
        "df"
      ],
      "execution_count": null,
      "outputs": [
        {
          "output_type": "execute_result",
          "data": {
            "text/html": [
              "<div>\n",
              "<style scoped>\n",
              "    .dataframe tbody tr th:only-of-type {\n",
              "        vertical-align: middle;\n",
              "    }\n",
              "\n",
              "    .dataframe tbody tr th {\n",
              "        vertical-align: top;\n",
              "    }\n",
              "\n",
              "    .dataframe thead th {\n",
              "        text-align: right;\n",
              "    }\n",
              "</style>\n",
              "<table border=\"1\" class=\"dataframe\">\n",
              "  <thead>\n",
              "    <tr style=\"text-align: right;\">\n",
              "      <th></th>\n",
              "      <th>Breathing Problem</th>\n",
              "      <th>Fever</th>\n",
              "      <th>Dry Cough</th>\n",
              "      <th>Sore throat</th>\n",
              "      <th>Running Nose</th>\n",
              "      <th>Asthma</th>\n",
              "      <th>Chronic Lung Disease</th>\n",
              "      <th>Headache</th>\n",
              "      <th>Heart Disease</th>\n",
              "      <th>Diabetes</th>\n",
              "      <th>Hyper Tension</th>\n",
              "      <th>Fatigue</th>\n",
              "      <th>Gastrointestinal</th>\n",
              "      <th>Abroad travel</th>\n",
              "      <th>Contact with COVID Patient</th>\n",
              "      <th>Attended Large Gathering</th>\n",
              "      <th>Visited Public Exposed Places</th>\n",
              "      <th>Family working in Public Exposed Places</th>\n",
              "      <th>Wearing Masks</th>\n",
              "      <th>Sanitization from Market</th>\n",
              "      <th>COVID-19</th>\n",
              "    </tr>\n",
              "  </thead>\n",
              "  <tbody>\n",
              "    <tr>\n",
              "      <th>0</th>\n",
              "      <td>Yes</td>\n",
              "      <td>Yes</td>\n",
              "      <td>Yes</td>\n",
              "      <td>Yes</td>\n",
              "      <td>Yes</td>\n",
              "      <td>No</td>\n",
              "      <td>No</td>\n",
              "      <td>No</td>\n",
              "      <td>No</td>\n",
              "      <td>Yes</td>\n",
              "      <td>Yes</td>\n",
              "      <td>Yes</td>\n",
              "      <td>Yes</td>\n",
              "      <td>No</td>\n",
              "      <td>Yes</td>\n",
              "      <td>No</td>\n",
              "      <td>Yes</td>\n",
              "      <td>Yes</td>\n",
              "      <td>No</td>\n",
              "      <td>No</td>\n",
              "      <td>Yes</td>\n",
              "    </tr>\n",
              "    <tr>\n",
              "      <th>1</th>\n",
              "      <td>Yes</td>\n",
              "      <td>Yes</td>\n",
              "      <td>Yes</td>\n",
              "      <td>Yes</td>\n",
              "      <td>No</td>\n",
              "      <td>Yes</td>\n",
              "      <td>Yes</td>\n",
              "      <td>Yes</td>\n",
              "      <td>No</td>\n",
              "      <td>No</td>\n",
              "      <td>No</td>\n",
              "      <td>Yes</td>\n",
              "      <td>No</td>\n",
              "      <td>No</td>\n",
              "      <td>No</td>\n",
              "      <td>Yes</td>\n",
              "      <td>Yes</td>\n",
              "      <td>No</td>\n",
              "      <td>No</td>\n",
              "      <td>No</td>\n",
              "      <td>Yes</td>\n",
              "    </tr>\n",
              "    <tr>\n",
              "      <th>2</th>\n",
              "      <td>Yes</td>\n",
              "      <td>Yes</td>\n",
              "      <td>Yes</td>\n",
              "      <td>Yes</td>\n",
              "      <td>Yes</td>\n",
              "      <td>Yes</td>\n",
              "      <td>Yes</td>\n",
              "      <td>Yes</td>\n",
              "      <td>No</td>\n",
              "      <td>Yes</td>\n",
              "      <td>No</td>\n",
              "      <td>Yes</td>\n",
              "      <td>Yes</td>\n",
              "      <td>Yes</td>\n",
              "      <td>No</td>\n",
              "      <td>No</td>\n",
              "      <td>No</td>\n",
              "      <td>No</td>\n",
              "      <td>No</td>\n",
              "      <td>No</td>\n",
              "      <td>Yes</td>\n",
              "    </tr>\n",
              "    <tr>\n",
              "      <th>3</th>\n",
              "      <td>Yes</td>\n",
              "      <td>Yes</td>\n",
              "      <td>Yes</td>\n",
              "      <td>No</td>\n",
              "      <td>No</td>\n",
              "      <td>Yes</td>\n",
              "      <td>No</td>\n",
              "      <td>No</td>\n",
              "      <td>Yes</td>\n",
              "      <td>Yes</td>\n",
              "      <td>No</td>\n",
              "      <td>No</td>\n",
              "      <td>No</td>\n",
              "      <td>Yes</td>\n",
              "      <td>No</td>\n",
              "      <td>Yes</td>\n",
              "      <td>Yes</td>\n",
              "      <td>No</td>\n",
              "      <td>No</td>\n",
              "      <td>No</td>\n",
              "      <td>Yes</td>\n",
              "    </tr>\n",
              "    <tr>\n",
              "      <th>4</th>\n",
              "      <td>Yes</td>\n",
              "      <td>Yes</td>\n",
              "      <td>Yes</td>\n",
              "      <td>Yes</td>\n",
              "      <td>Yes</td>\n",
              "      <td>No</td>\n",
              "      <td>Yes</td>\n",
              "      <td>Yes</td>\n",
              "      <td>Yes</td>\n",
              "      <td>Yes</td>\n",
              "      <td>Yes</td>\n",
              "      <td>No</td>\n",
              "      <td>Yes</td>\n",
              "      <td>No</td>\n",
              "      <td>Yes</td>\n",
              "      <td>No</td>\n",
              "      <td>Yes</td>\n",
              "      <td>No</td>\n",
              "      <td>No</td>\n",
              "      <td>No</td>\n",
              "      <td>Yes</td>\n",
              "    </tr>\n",
              "    <tr>\n",
              "      <th>...</th>\n",
              "      <td>...</td>\n",
              "      <td>...</td>\n",
              "      <td>...</td>\n",
              "      <td>...</td>\n",
              "      <td>...</td>\n",
              "      <td>...</td>\n",
              "      <td>...</td>\n",
              "      <td>...</td>\n",
              "      <td>...</td>\n",
              "      <td>...</td>\n",
              "      <td>...</td>\n",
              "      <td>...</td>\n",
              "      <td>...</td>\n",
              "      <td>...</td>\n",
              "      <td>...</td>\n",
              "      <td>...</td>\n",
              "      <td>...</td>\n",
              "      <td>...</td>\n",
              "      <td>...</td>\n",
              "      <td>...</td>\n",
              "      <td>...</td>\n",
              "    </tr>\n",
              "    <tr>\n",
              "      <th>5429</th>\n",
              "      <td>Yes</td>\n",
              "      <td>Yes</td>\n",
              "      <td>No</td>\n",
              "      <td>Yes</td>\n",
              "      <td>Yes</td>\n",
              "      <td>Yes</td>\n",
              "      <td>Yes</td>\n",
              "      <td>No</td>\n",
              "      <td>No</td>\n",
              "      <td>No</td>\n",
              "      <td>No</td>\n",
              "      <td>Yes</td>\n",
              "      <td>Yes</td>\n",
              "      <td>No</td>\n",
              "      <td>No</td>\n",
              "      <td>No</td>\n",
              "      <td>No</td>\n",
              "      <td>No</td>\n",
              "      <td>No</td>\n",
              "      <td>No</td>\n",
              "      <td>Yes</td>\n",
              "    </tr>\n",
              "    <tr>\n",
              "      <th>5430</th>\n",
              "      <td>Yes</td>\n",
              "      <td>Yes</td>\n",
              "      <td>Yes</td>\n",
              "      <td>No</td>\n",
              "      <td>Yes</td>\n",
              "      <td>Yes</td>\n",
              "      <td>No</td>\n",
              "      <td>Yes</td>\n",
              "      <td>No</td>\n",
              "      <td>Yes</td>\n",
              "      <td>Yes</td>\n",
              "      <td>Yes</td>\n",
              "      <td>No</td>\n",
              "      <td>No</td>\n",
              "      <td>No</td>\n",
              "      <td>No</td>\n",
              "      <td>No</td>\n",
              "      <td>No</td>\n",
              "      <td>No</td>\n",
              "      <td>No</td>\n",
              "      <td>Yes</td>\n",
              "    </tr>\n",
              "    <tr>\n",
              "      <th>5431</th>\n",
              "      <td>Yes</td>\n",
              "      <td>Yes</td>\n",
              "      <td>Yes</td>\n",
              "      <td>No</td>\n",
              "      <td>No</td>\n",
              "      <td>No</td>\n",
              "      <td>No</td>\n",
              "      <td>No</td>\n",
              "      <td>Yes</td>\n",
              "      <td>No</td>\n",
              "      <td>Yes</td>\n",
              "      <td>No</td>\n",
              "      <td>No</td>\n",
              "      <td>No</td>\n",
              "      <td>No</td>\n",
              "      <td>No</td>\n",
              "      <td>No</td>\n",
              "      <td>No</td>\n",
              "      <td>No</td>\n",
              "      <td>No</td>\n",
              "      <td>No</td>\n",
              "    </tr>\n",
              "    <tr>\n",
              "      <th>5432</th>\n",
              "      <td>Yes</td>\n",
              "      <td>Yes</td>\n",
              "      <td>Yes</td>\n",
              "      <td>No</td>\n",
              "      <td>Yes</td>\n",
              "      <td>No</td>\n",
              "      <td>No</td>\n",
              "      <td>Yes</td>\n",
              "      <td>Yes</td>\n",
              "      <td>No</td>\n",
              "      <td>No</td>\n",
              "      <td>No</td>\n",
              "      <td>No</td>\n",
              "      <td>No</td>\n",
              "      <td>No</td>\n",
              "      <td>No</td>\n",
              "      <td>No</td>\n",
              "      <td>No</td>\n",
              "      <td>No</td>\n",
              "      <td>No</td>\n",
              "      <td>No</td>\n",
              "    </tr>\n",
              "    <tr>\n",
              "      <th>5433</th>\n",
              "      <td>Yes</td>\n",
              "      <td>Yes</td>\n",
              "      <td>Yes</td>\n",
              "      <td>No</td>\n",
              "      <td>Yes</td>\n",
              "      <td>Yes</td>\n",
              "      <td>No</td>\n",
              "      <td>Yes</td>\n",
              "      <td>No</td>\n",
              "      <td>Yes</td>\n",
              "      <td>Yes</td>\n",
              "      <td>Yes</td>\n",
              "      <td>No</td>\n",
              "      <td>No</td>\n",
              "      <td>No</td>\n",
              "      <td>No</td>\n",
              "      <td>No</td>\n",
              "      <td>No</td>\n",
              "      <td>No</td>\n",
              "      <td>No</td>\n",
              "      <td>No</td>\n",
              "    </tr>\n",
              "  </tbody>\n",
              "</table>\n",
              "<p>5434 rows × 21 columns</p>\n",
              "</div>"
            ],
            "text/plain": [
              "     Breathing Problem Fever  ... Sanitization from Market COVID-19\n",
              "0                  Yes   Yes  ...                       No      Yes\n",
              "1                  Yes   Yes  ...                       No      Yes\n",
              "2                  Yes   Yes  ...                       No      Yes\n",
              "3                  Yes   Yes  ...                       No      Yes\n",
              "4                  Yes   Yes  ...                       No      Yes\n",
              "...                ...   ...  ...                      ...      ...\n",
              "5429               Yes   Yes  ...                       No      Yes\n",
              "5430               Yes   Yes  ...                       No      Yes\n",
              "5431               Yes   Yes  ...                       No       No\n",
              "5432               Yes   Yes  ...                       No       No\n",
              "5433               Yes   Yes  ...                       No       No\n",
              "\n",
              "[5434 rows x 21 columns]"
            ]
          },
          "metadata": {
            "tags": []
          },
          "execution_count": 5
        }
      ]
    },
    {
      "cell_type": "markdown",
      "metadata": {
        "id": "I5TeRH9WLMu0"
      },
      "source": [
        "Data Cleaning"
      ]
    },
    {
      "cell_type": "code",
      "metadata": {
        "id": "MMvYdEFgLJKN",
        "colab": {
          "base_uri": "https://localhost:8080/"
        },
        "outputId": "a8fd636c-ebbe-4583-cac8-53b4ef42dfdf"
      },
      "source": [
        "df.info()"
      ],
      "execution_count": null,
      "outputs": [
        {
          "output_type": "stream",
          "text": [
            "<class 'pandas.core.frame.DataFrame'>\n",
            "RangeIndex: 5434 entries, 0 to 5433\n",
            "Data columns (total 21 columns):\n",
            " #   Column                                   Non-Null Count  Dtype \n",
            "---  ------                                   --------------  ----- \n",
            " 0   Breathing Problem                        5434 non-null   object\n",
            " 1   Fever                                    5434 non-null   object\n",
            " 2   Dry Cough                                5434 non-null   object\n",
            " 3   Sore throat                              5434 non-null   object\n",
            " 4   Running Nose                             5434 non-null   object\n",
            " 5   Asthma                                   5434 non-null   object\n",
            " 6   Chronic Lung Disease                     5434 non-null   object\n",
            " 7   Headache                                 5434 non-null   object\n",
            " 8   Heart Disease                            5434 non-null   object\n",
            " 9   Diabetes                                 5434 non-null   object\n",
            " 10  Hyper Tension                            5434 non-null   object\n",
            " 11  Fatigue                                  5434 non-null   object\n",
            " 12  Gastrointestinal                         5434 non-null   object\n",
            " 13  Abroad travel                            5434 non-null   object\n",
            " 14  Contact with COVID Patient               5434 non-null   object\n",
            " 15  Attended Large Gathering                 5434 non-null   object\n",
            " 16  Visited Public Exposed Places            5434 non-null   object\n",
            " 17  Family working in Public Exposed Places  5434 non-null   object\n",
            " 18  Wearing Masks                            5434 non-null   object\n",
            " 19  Sanitization from Market                 5434 non-null   object\n",
            " 20  COVID-19                                 5434 non-null   object\n",
            "dtypes: object(21)\n",
            "memory usage: 891.6+ KB\n"
          ],
          "name": "stdout"
        }
      ]
    },
    {
      "cell_type": "code",
      "metadata": {
        "id": "EoUYCnDjLJM5"
      },
      "source": [
        "df = df.replace({'No': 0, 'Yes': 1})"
      ],
      "execution_count": null,
      "outputs": []
    },
    {
      "cell_type": "code",
      "metadata": {
        "colab": {
          "base_uri": "https://localhost:8080/",
          "height": 722
        },
        "id": "utUNHjhseIW7",
        "outputId": "673675c1-940e-4d1b-a6da-65079f08a376"
      },
      "source": [
        "corr_df= df.corr()\n",
        "corr_df.style.background_gradient(cmap='coolwarm',axis=None)"
      ],
      "execution_count": null,
      "outputs": [
        {
          "output_type": "execute_result",
          "data": {
            "text/html": [
              "<style  type=\"text/css\" >\n",
              "#T_a733f086_e16b_11eb_99e5_0242ac1c0002row0_col0,#T_a733f086_e16b_11eb_99e5_0242ac1c0002row1_col1,#T_a733f086_e16b_11eb_99e5_0242ac1c0002row2_col2,#T_a733f086_e16b_11eb_99e5_0242ac1c0002row3_col3,#T_a733f086_e16b_11eb_99e5_0242ac1c0002row4_col4,#T_a733f086_e16b_11eb_99e5_0242ac1c0002row5_col5,#T_a733f086_e16b_11eb_99e5_0242ac1c0002row6_col6,#T_a733f086_e16b_11eb_99e5_0242ac1c0002row7_col7,#T_a733f086_e16b_11eb_99e5_0242ac1c0002row8_col8,#T_a733f086_e16b_11eb_99e5_0242ac1c0002row9_col9,#T_a733f086_e16b_11eb_99e5_0242ac1c0002row10_col10,#T_a733f086_e16b_11eb_99e5_0242ac1c0002row11_col11,#T_a733f086_e16b_11eb_99e5_0242ac1c0002row12_col12,#T_a733f086_e16b_11eb_99e5_0242ac1c0002row13_col13,#T_a733f086_e16b_11eb_99e5_0242ac1c0002row14_col14,#T_a733f086_e16b_11eb_99e5_0242ac1c0002row15_col15,#T_a733f086_e16b_11eb_99e5_0242ac1c0002row16_col16,#T_a733f086_e16b_11eb_99e5_0242ac1c0002row17_col17,#T_a733f086_e16b_11eb_99e5_0242ac1c0002row20_col20{\n",
              "            background-color:  #b40426;\n",
              "            color:  #f1f1f1;\n",
              "        }#T_a733f086_e16b_11eb_99e5_0242ac1c0002row0_col1,#T_a733f086_e16b_11eb_99e5_0242ac1c0002row1_col0,#T_a733f086_e16b_11eb_99e5_0242ac1c0002row5_col20,#T_a733f086_e16b_11eb_99e5_0242ac1c0002row20_col5{\n",
              "            background-color:  #8caffe;\n",
              "            color:  #000000;\n",
              "        }#T_a733f086_e16b_11eb_99e5_0242ac1c0002row0_col2,#T_a733f086_e16b_11eb_99e5_0242ac1c0002row2_col0,#T_a733f086_e16b_11eb_99e5_0242ac1c0002row17_col20,#T_a733f086_e16b_11eb_99e5_0242ac1c0002row20_col17{\n",
              "            background-color:  #9fbfff;\n",
              "            color:  #000000;\n",
              "        }#T_a733f086_e16b_11eb_99e5_0242ac1c0002row0_col3,#T_a733f086_e16b_11eb_99e5_0242ac1c0002row3_col0{\n",
              "            background-color:  #c7d7f0;\n",
              "            color:  #000000;\n",
              "        }#T_a733f086_e16b_11eb_99e5_0242ac1c0002row0_col4,#T_a733f086_e16b_11eb_99e5_0242ac1c0002row0_col9,#T_a733f086_e16b_11eb_99e5_0242ac1c0002row4_col0,#T_a733f086_e16b_11eb_99e5_0242ac1c0002row7_col11,#T_a733f086_e16b_11eb_99e5_0242ac1c0002row9_col0,#T_a733f086_e16b_11eb_99e5_0242ac1c0002row11_col7{\n",
              "            background-color:  #81a4fb;\n",
              "            color:  #000000;\n",
              "        }#T_a733f086_e16b_11eb_99e5_0242ac1c0002row0_col5,#T_a733f086_e16b_11eb_99e5_0242ac1c0002row1_col5,#T_a733f086_e16b_11eb_99e5_0242ac1c0002row5_col0,#T_a733f086_e16b_11eb_99e5_0242ac1c0002row5_col1{\n",
              "            background-color:  #86a9fc;\n",
              "            color:  #000000;\n",
              "        }#T_a733f086_e16b_11eb_99e5_0242ac1c0002row0_col6,#T_a733f086_e16b_11eb_99e5_0242ac1c0002row6_col0{\n",
              "            background-color:  #5673e0;\n",
              "            color:  #000000;\n",
              "        }#T_a733f086_e16b_11eb_99e5_0242ac1c0002row0_col7,#T_a733f086_e16b_11eb_99e5_0242ac1c0002row4_col17,#T_a733f086_e16b_11eb_99e5_0242ac1c0002row6_col14,#T_a733f086_e16b_11eb_99e5_0242ac1c0002row7_col0,#T_a733f086_e16b_11eb_99e5_0242ac1c0002row9_col15,#T_a733f086_e16b_11eb_99e5_0242ac1c0002row12_col16,#T_a733f086_e16b_11eb_99e5_0242ac1c0002row14_col6,#T_a733f086_e16b_11eb_99e5_0242ac1c0002row15_col9,#T_a733f086_e16b_11eb_99e5_0242ac1c0002row16_col12,#T_a733f086_e16b_11eb_99e5_0242ac1c0002row17_col4{\n",
              "            background-color:  #5f7fe8;\n",
              "            color:  #000000;\n",
              "        }#T_a733f086_e16b_11eb_99e5_0242ac1c0002row0_col8,#T_a733f086_e16b_11eb_99e5_0242ac1c0002row0_col12,#T_a733f086_e16b_11eb_99e5_0242ac1c0002row8_col0,#T_a733f086_e16b_11eb_99e5_0242ac1c0002row12_col0{\n",
              "            background-color:  #5d7ce6;\n",
              "            color:  #000000;\n",
              "        }#T_a733f086_e16b_11eb_99e5_0242ac1c0002row0_col10,#T_a733f086_e16b_11eb_99e5_0242ac1c0002row3_col10,#T_a733f086_e16b_11eb_99e5_0242ac1c0002row4_col9,#T_a733f086_e16b_11eb_99e5_0242ac1c0002row6_col9,#T_a733f086_e16b_11eb_99e5_0242ac1c0002row7_col13,#T_a733f086_e16b_11eb_99e5_0242ac1c0002row9_col4,#T_a733f086_e16b_11eb_99e5_0242ac1c0002row9_col6,#T_a733f086_e16b_11eb_99e5_0242ac1c0002row9_col10,#T_a733f086_e16b_11eb_99e5_0242ac1c0002row10_col0,#T_a733f086_e16b_11eb_99e5_0242ac1c0002row10_col3,#T_a733f086_e16b_11eb_99e5_0242ac1c0002row10_col9,#T_a733f086_e16b_11eb_99e5_0242ac1c0002row13_col7{\n",
              "            background-color:  #7ea1fa;\n",
              "            color:  #000000;\n",
              "        }#T_a733f086_e16b_11eb_99e5_0242ac1c0002row0_col11,#T_a733f086_e16b_11eb_99e5_0242ac1c0002row1_col16,#T_a733f086_e16b_11eb_99e5_0242ac1c0002row3_col8,#T_a733f086_e16b_11eb_99e5_0242ac1c0002row3_col9,#T_a733f086_e16b_11eb_99e5_0242ac1c0002row4_col14,#T_a733f086_e16b_11eb_99e5_0242ac1c0002row8_col3,#T_a733f086_e16b_11eb_99e5_0242ac1c0002row8_col12,#T_a733f086_e16b_11eb_99e5_0242ac1c0002row9_col3,#T_a733f086_e16b_11eb_99e5_0242ac1c0002row10_col15,#T_a733f086_e16b_11eb_99e5_0242ac1c0002row11_col0,#T_a733f086_e16b_11eb_99e5_0242ac1c0002row12_col8,#T_a733f086_e16b_11eb_99e5_0242ac1c0002row14_col4,#T_a733f086_e16b_11eb_99e5_0242ac1c0002row15_col10,#T_a733f086_e16b_11eb_99e5_0242ac1c0002row16_col1{\n",
              "            background-color:  #7295f4;\n",
              "            color:  #000000;\n",
              "        }#T_a733f086_e16b_11eb_99e5_0242ac1c0002row0_col13,#T_a733f086_e16b_11eb_99e5_0242ac1c0002row2_col15,#T_a733f086_e16b_11eb_99e5_0242ac1c0002row13_col0,#T_a733f086_e16b_11eb_99e5_0242ac1c0002row13_col15,#T_a733f086_e16b_11eb_99e5_0242ac1c0002row15_col2,#T_a733f086_e16b_11eb_99e5_0242ac1c0002row15_col13{\n",
              "            background-color:  #93b5fe;\n",
              "            color:  #000000;\n",
              "        }#T_a733f086_e16b_11eb_99e5_0242ac1c0002row0_col14,#T_a733f086_e16b_11eb_99e5_0242ac1c0002row2_col3,#T_a733f086_e16b_11eb_99e5_0242ac1c0002row3_col2,#T_a733f086_e16b_11eb_99e5_0242ac1c0002row3_col15,#T_a733f086_e16b_11eb_99e5_0242ac1c0002row14_col0,#T_a733f086_e16b_11eb_99e5_0242ac1c0002row15_col3{\n",
              "            background-color:  #afcafc;\n",
              "            color:  #000000;\n",
              "        }#T_a733f086_e16b_11eb_99e5_0242ac1c0002row0_col15,#T_a733f086_e16b_11eb_99e5_0242ac1c0002row15_col0{\n",
              "            background-color:  #abc8fd;\n",
              "            color:  #000000;\n",
              "        }#T_a733f086_e16b_11eb_99e5_0242ac1c0002row0_col16,#T_a733f086_e16b_11eb_99e5_0242ac1c0002row1_col15,#T_a733f086_e16b_11eb_99e5_0242ac1c0002row4_col7,#T_a733f086_e16b_11eb_99e5_0242ac1c0002row5_col13,#T_a733f086_e16b_11eb_99e5_0242ac1c0002row7_col4,#T_a733f086_e16b_11eb_99e5_0242ac1c0002row13_col5,#T_a733f086_e16b_11eb_99e5_0242ac1c0002row13_col16,#T_a733f086_e16b_11eb_99e5_0242ac1c0002row15_col1,#T_a733f086_e16b_11eb_99e5_0242ac1c0002row16_col0,#T_a733f086_e16b_11eb_99e5_0242ac1c0002row16_col13{\n",
              "            background-color:  #85a8fc;\n",
              "            color:  #000000;\n",
              "        }#T_a733f086_e16b_11eb_99e5_0242ac1c0002row0_col17,#T_a733f086_e16b_11eb_99e5_0242ac1c0002row5_col10,#T_a733f086_e16b_11eb_99e5_0242ac1c0002row10_col5,#T_a733f086_e16b_11eb_99e5_0242ac1c0002row17_col0{\n",
              "            background-color:  #7699f6;\n",
              "            color:  #000000;\n",
              "        }#T_a733f086_e16b_11eb_99e5_0242ac1c0002row0_col18,#T_a733f086_e16b_11eb_99e5_0242ac1c0002row0_col19,#T_a733f086_e16b_11eb_99e5_0242ac1c0002row1_col18,#T_a733f086_e16b_11eb_99e5_0242ac1c0002row1_col19,#T_a733f086_e16b_11eb_99e5_0242ac1c0002row2_col18,#T_a733f086_e16b_11eb_99e5_0242ac1c0002row2_col19,#T_a733f086_e16b_11eb_99e5_0242ac1c0002row3_col18,#T_a733f086_e16b_11eb_99e5_0242ac1c0002row3_col19,#T_a733f086_e16b_11eb_99e5_0242ac1c0002row4_col18,#T_a733f086_e16b_11eb_99e5_0242ac1c0002row4_col19,#T_a733f086_e16b_11eb_99e5_0242ac1c0002row5_col18,#T_a733f086_e16b_11eb_99e5_0242ac1c0002row5_col19,#T_a733f086_e16b_11eb_99e5_0242ac1c0002row6_col18,#T_a733f086_e16b_11eb_99e5_0242ac1c0002row6_col19,#T_a733f086_e16b_11eb_99e5_0242ac1c0002row7_col18,#T_a733f086_e16b_11eb_99e5_0242ac1c0002row7_col19,#T_a733f086_e16b_11eb_99e5_0242ac1c0002row8_col18,#T_a733f086_e16b_11eb_99e5_0242ac1c0002row8_col19,#T_a733f086_e16b_11eb_99e5_0242ac1c0002row9_col18,#T_a733f086_e16b_11eb_99e5_0242ac1c0002row9_col19,#T_a733f086_e16b_11eb_99e5_0242ac1c0002row10_col18,#T_a733f086_e16b_11eb_99e5_0242ac1c0002row10_col19,#T_a733f086_e16b_11eb_99e5_0242ac1c0002row11_col18,#T_a733f086_e16b_11eb_99e5_0242ac1c0002row11_col19,#T_a733f086_e16b_11eb_99e5_0242ac1c0002row12_col18,#T_a733f086_e16b_11eb_99e5_0242ac1c0002row12_col19,#T_a733f086_e16b_11eb_99e5_0242ac1c0002row13_col18,#T_a733f086_e16b_11eb_99e5_0242ac1c0002row13_col19,#T_a733f086_e16b_11eb_99e5_0242ac1c0002row14_col18,#T_a733f086_e16b_11eb_99e5_0242ac1c0002row14_col19,#T_a733f086_e16b_11eb_99e5_0242ac1c0002row15_col18,#T_a733f086_e16b_11eb_99e5_0242ac1c0002row15_col19,#T_a733f086_e16b_11eb_99e5_0242ac1c0002row16_col18,#T_a733f086_e16b_11eb_99e5_0242ac1c0002row16_col19,#T_a733f086_e16b_11eb_99e5_0242ac1c0002row17_col18,#T_a733f086_e16b_11eb_99e5_0242ac1c0002row17_col19,#T_a733f086_e16b_11eb_99e5_0242ac1c0002row18_col0,#T_a733f086_e16b_11eb_99e5_0242ac1c0002row18_col1,#T_a733f086_e16b_11eb_99e5_0242ac1c0002row18_col2,#T_a733f086_e16b_11eb_99e5_0242ac1c0002row18_col3,#T_a733f086_e16b_11eb_99e5_0242ac1c0002row18_col4,#T_a733f086_e16b_11eb_99e5_0242ac1c0002row18_col5,#T_a733f086_e16b_11eb_99e5_0242ac1c0002row18_col6,#T_a733f086_e16b_11eb_99e5_0242ac1c0002row18_col7,#T_a733f086_e16b_11eb_99e5_0242ac1c0002row18_col8,#T_a733f086_e16b_11eb_99e5_0242ac1c0002row18_col9,#T_a733f086_e16b_11eb_99e5_0242ac1c0002row18_col10,#T_a733f086_e16b_11eb_99e5_0242ac1c0002row18_col11,#T_a733f086_e16b_11eb_99e5_0242ac1c0002row18_col12,#T_a733f086_e16b_11eb_99e5_0242ac1c0002row18_col13,#T_a733f086_e16b_11eb_99e5_0242ac1c0002row18_col14,#T_a733f086_e16b_11eb_99e5_0242ac1c0002row18_col15,#T_a733f086_e16b_11eb_99e5_0242ac1c0002row18_col16,#T_a733f086_e16b_11eb_99e5_0242ac1c0002row18_col17,#T_a733f086_e16b_11eb_99e5_0242ac1c0002row18_col18,#T_a733f086_e16b_11eb_99e5_0242ac1c0002row18_col19,#T_a733f086_e16b_11eb_99e5_0242ac1c0002row18_col20,#T_a733f086_e16b_11eb_99e5_0242ac1c0002row19_col0,#T_a733f086_e16b_11eb_99e5_0242ac1c0002row19_col1,#T_a733f086_e16b_11eb_99e5_0242ac1c0002row19_col2,#T_a733f086_e16b_11eb_99e5_0242ac1c0002row19_col3,#T_a733f086_e16b_11eb_99e5_0242ac1c0002row19_col4,#T_a733f086_e16b_11eb_99e5_0242ac1c0002row19_col5,#T_a733f086_e16b_11eb_99e5_0242ac1c0002row19_col6,#T_a733f086_e16b_11eb_99e5_0242ac1c0002row19_col7,#T_a733f086_e16b_11eb_99e5_0242ac1c0002row19_col8,#T_a733f086_e16b_11eb_99e5_0242ac1c0002row19_col9,#T_a733f086_e16b_11eb_99e5_0242ac1c0002row19_col10,#T_a733f086_e16b_11eb_99e5_0242ac1c0002row19_col11,#T_a733f086_e16b_11eb_99e5_0242ac1c0002row19_col12,#T_a733f086_e16b_11eb_99e5_0242ac1c0002row19_col13,#T_a733f086_e16b_11eb_99e5_0242ac1c0002row19_col14,#T_a733f086_e16b_11eb_99e5_0242ac1c0002row19_col15,#T_a733f086_e16b_11eb_99e5_0242ac1c0002row19_col16,#T_a733f086_e16b_11eb_99e5_0242ac1c0002row19_col17,#T_a733f086_e16b_11eb_99e5_0242ac1c0002row19_col18,#T_a733f086_e16b_11eb_99e5_0242ac1c0002row19_col19,#T_a733f086_e16b_11eb_99e5_0242ac1c0002row19_col20,#T_a733f086_e16b_11eb_99e5_0242ac1c0002row20_col18,#T_a733f086_e16b_11eb_99e5_0242ac1c0002row20_col19{\n",
              "            background-color:  #000000;\n",
              "            color:  #f1f1f1;\n",
              "        }#T_a733f086_e16b_11eb_99e5_0242ac1c0002row0_col20,#T_a733f086_e16b_11eb_99e5_0242ac1c0002row13_col20,#T_a733f086_e16b_11eb_99e5_0242ac1c0002row20_col0,#T_a733f086_e16b_11eb_99e5_0242ac1c0002row20_col13{\n",
              "            background-color:  #e7d7ce;\n",
              "            color:  #000000;\n",
              "        }#T_a733f086_e16b_11eb_99e5_0242ac1c0002row1_col2,#T_a733f086_e16b_11eb_99e5_0242ac1c0002row1_col13,#T_a733f086_e16b_11eb_99e5_0242ac1c0002row2_col1,#T_a733f086_e16b_11eb_99e5_0242ac1c0002row2_col14,#T_a733f086_e16b_11eb_99e5_0242ac1c0002row13_col1,#T_a733f086_e16b_11eb_99e5_0242ac1c0002row14_col2{\n",
              "            background-color:  #97b8ff;\n",
              "            color:  #000000;\n",
              "        }#T_a733f086_e16b_11eb_99e5_0242ac1c0002row1_col3,#T_a733f086_e16b_11eb_99e5_0242ac1c0002row3_col1{\n",
              "            background-color:  #ccd9ed;\n",
              "            color:  #000000;\n",
              "        }#T_a733f086_e16b_11eb_99e5_0242ac1c0002row1_col4,#T_a733f086_e16b_11eb_99e5_0242ac1c0002row2_col10,#T_a733f086_e16b_11eb_99e5_0242ac1c0002row3_col5,#T_a733f086_e16b_11eb_99e5_0242ac1c0002row4_col1,#T_a733f086_e16b_11eb_99e5_0242ac1c0002row5_col3,#T_a733f086_e16b_11eb_99e5_0242ac1c0002row10_col2,#T_a733f086_e16b_11eb_99e5_0242ac1c0002row15_col16,#T_a733f086_e16b_11eb_99e5_0242ac1c0002row16_col15{\n",
              "            background-color:  #89acfd;\n",
              "            color:  #000000;\n",
              "        }#T_a733f086_e16b_11eb_99e5_0242ac1c0002row1_col6,#T_a733f086_e16b_11eb_99e5_0242ac1c0002row6_col1,#T_a733f086_e16b_11eb_99e5_0242ac1c0002row7_col20,#T_a733f086_e16b_11eb_99e5_0242ac1c0002row8_col14,#T_a733f086_e16b_11eb_99e5_0242ac1c0002row10_col11,#T_a733f086_e16b_11eb_99e5_0242ac1c0002row11_col10,#T_a733f086_e16b_11eb_99e5_0242ac1c0002row11_col14,#T_a733f086_e16b_11eb_99e5_0242ac1c0002row11_col17,#T_a733f086_e16b_11eb_99e5_0242ac1c0002row12_col17,#T_a733f086_e16b_11eb_99e5_0242ac1c0002row14_col8,#T_a733f086_e16b_11eb_99e5_0242ac1c0002row14_col11,#T_a733f086_e16b_11eb_99e5_0242ac1c0002row17_col11,#T_a733f086_e16b_11eb_99e5_0242ac1c0002row17_col12,#T_a733f086_e16b_11eb_99e5_0242ac1c0002row20_col7{\n",
              "            background-color:  #6a8bef;\n",
              "            color:  #000000;\n",
              "        }#T_a733f086_e16b_11eb_99e5_0242ac1c0002row1_col7,#T_a733f086_e16b_11eb_99e5_0242ac1c0002row2_col7,#T_a733f086_e16b_11eb_99e5_0242ac1c0002row5_col6,#T_a733f086_e16b_11eb_99e5_0242ac1c0002row6_col5,#T_a733f086_e16b_11eb_99e5_0242ac1c0002row7_col1,#T_a733f086_e16b_11eb_99e5_0242ac1c0002row7_col2{\n",
              "            background-color:  #6788ee;\n",
              "            color:  #000000;\n",
              "        }#T_a733f086_e16b_11eb_99e5_0242ac1c0002row1_col8,#T_a733f086_e16b_11eb_99e5_0242ac1c0002row2_col4,#T_a733f086_e16b_11eb_99e5_0242ac1c0002row4_col2,#T_a733f086_e16b_11eb_99e5_0242ac1c0002row8_col1,#T_a733f086_e16b_11eb_99e5_0242ac1c0002row8_col9,#T_a733f086_e16b_11eb_99e5_0242ac1c0002row9_col8,#T_a733f086_e16b_11eb_99e5_0242ac1c0002row11_col15,#T_a733f086_e16b_11eb_99e5_0242ac1c0002row15_col11{\n",
              "            background-color:  #688aef;\n",
              "            color:  #000000;\n",
              "        }#T_a733f086_e16b_11eb_99e5_0242ac1c0002row1_col9,#T_a733f086_e16b_11eb_99e5_0242ac1c0002row2_col8,#T_a733f086_e16b_11eb_99e5_0242ac1c0002row7_col8,#T_a733f086_e16b_11eb_99e5_0242ac1c0002row8_col2,#T_a733f086_e16b_11eb_99e5_0242ac1c0002row8_col7,#T_a733f086_e16b_11eb_99e5_0242ac1c0002row8_col10,#T_a733f086_e16b_11eb_99e5_0242ac1c0002row9_col1,#T_a733f086_e16b_11eb_99e5_0242ac1c0002row10_col8,#T_a733f086_e16b_11eb_99e5_0242ac1c0002row10_col17,#T_a733f086_e16b_11eb_99e5_0242ac1c0002row17_col10{\n",
              "            background-color:  #80a3fa;\n",
              "            color:  #000000;\n",
              "        }#T_a733f086_e16b_11eb_99e5_0242ac1c0002row1_col10,#T_a733f086_e16b_11eb_99e5_0242ac1c0002row3_col16,#T_a733f086_e16b_11eb_99e5_0242ac1c0002row5_col8,#T_a733f086_e16b_11eb_99e5_0242ac1c0002row8_col5,#T_a733f086_e16b_11eb_99e5_0242ac1c0002row10_col1,#T_a733f086_e16b_11eb_99e5_0242ac1c0002row13_col14,#T_a733f086_e16b_11eb_99e5_0242ac1c0002row14_col13,#T_a733f086_e16b_11eb_99e5_0242ac1c0002row14_col16,#T_a733f086_e16b_11eb_99e5_0242ac1c0002row16_col3,#T_a733f086_e16b_11eb_99e5_0242ac1c0002row16_col14{\n",
              "            background-color:  #88abfd;\n",
              "            color:  #000000;\n",
              "        }#T_a733f086_e16b_11eb_99e5_0242ac1c0002row1_col11,#T_a733f086_e16b_11eb_99e5_0242ac1c0002row4_col8,#T_a733f086_e16b_11eb_99e5_0242ac1c0002row6_col20,#T_a733f086_e16b_11eb_99e5_0242ac1c0002row8_col4,#T_a733f086_e16b_11eb_99e5_0242ac1c0002row8_col11,#T_a733f086_e16b_11eb_99e5_0242ac1c0002row11_col1,#T_a733f086_e16b_11eb_99e5_0242ac1c0002row11_col8,#T_a733f086_e16b_11eb_99e5_0242ac1c0002row20_col6{\n",
              "            background-color:  #6180e9;\n",
              "            color:  #000000;\n",
              "        }#T_a733f086_e16b_11eb_99e5_0242ac1c0002row1_col12,#T_a733f086_e16b_11eb_99e5_0242ac1c0002row2_col9,#T_a733f086_e16b_11eb_99e5_0242ac1c0002row4_col20,#T_a733f086_e16b_11eb_99e5_0242ac1c0002row7_col16,#T_a733f086_e16b_11eb_99e5_0242ac1c0002row9_col2,#T_a733f086_e16b_11eb_99e5_0242ac1c0002row12_col1,#T_a733f086_e16b_11eb_99e5_0242ac1c0002row16_col7,#T_a733f086_e16b_11eb_99e5_0242ac1c0002row20_col4{\n",
              "            background-color:  #6f92f3;\n",
              "            color:  #000000;\n",
              "        }#T_a733f086_e16b_11eb_99e5_0242ac1c0002row1_col14,#T_a733f086_e16b_11eb_99e5_0242ac1c0002row2_col17,#T_a733f086_e16b_11eb_99e5_0242ac1c0002row14_col1,#T_a733f086_e16b_11eb_99e5_0242ac1c0002row17_col2{\n",
              "            background-color:  #a1c0ff;\n",
              "            color:  #000000;\n",
              "        }#T_a733f086_e16b_11eb_99e5_0242ac1c0002row1_col17,#T_a733f086_e16b_11eb_99e5_0242ac1c0002row17_col1{\n",
              "            background-color:  #7597f6;\n",
              "            color:  #000000;\n",
              "        }#T_a733f086_e16b_11eb_99e5_0242ac1c0002row1_col20,#T_a733f086_e16b_11eb_99e5_0242ac1c0002row20_col1{\n",
              "            background-color:  #d3dbe7;\n",
              "            color:  #000000;\n",
              "        }#T_a733f086_e16b_11eb_99e5_0242ac1c0002row2_col5,#T_a733f086_e16b_11eb_99e5_0242ac1c0002row2_col16,#T_a733f086_e16b_11eb_99e5_0242ac1c0002row5_col2,#T_a733f086_e16b_11eb_99e5_0242ac1c0002row8_col16,#T_a733f086_e16b_11eb_99e5_0242ac1c0002row16_col2,#T_a733f086_e16b_11eb_99e5_0242ac1c0002row16_col8{\n",
              "            background-color:  #8badfd;\n",
              "            color:  #000000;\n",
              "        }#T_a733f086_e16b_11eb_99e5_0242ac1c0002row2_col6,#T_a733f086_e16b_11eb_99e5_0242ac1c0002row5_col15,#T_a733f086_e16b_11eb_99e5_0242ac1c0002row6_col2,#T_a733f086_e16b_11eb_99e5_0242ac1c0002row8_col15,#T_a733f086_e16b_11eb_99e5_0242ac1c0002row9_col11,#T_a733f086_e16b_11eb_99e5_0242ac1c0002row11_col9,#T_a733f086_e16b_11eb_99e5_0242ac1c0002row11_col20,#T_a733f086_e16b_11eb_99e5_0242ac1c0002row15_col5,#T_a733f086_e16b_11eb_99e5_0242ac1c0002row15_col8,#T_a733f086_e16b_11eb_99e5_0242ac1c0002row20_col11{\n",
              "            background-color:  #6485ec;\n",
              "            color:  #000000;\n",
              "        }#T_a733f086_e16b_11eb_99e5_0242ac1c0002row2_col11,#T_a733f086_e16b_11eb_99e5_0242ac1c0002row6_col8,#T_a733f086_e16b_11eb_99e5_0242ac1c0002row8_col6,#T_a733f086_e16b_11eb_99e5_0242ac1c0002row11_col2{\n",
              "            background-color:  #6687ed;\n",
              "            color:  #000000;\n",
              "        }#T_a733f086_e16b_11eb_99e5_0242ac1c0002row2_col12,#T_a733f086_e16b_11eb_99e5_0242ac1c0002row4_col11,#T_a733f086_e16b_11eb_99e5_0242ac1c0002row5_col11,#T_a733f086_e16b_11eb_99e5_0242ac1c0002row5_col14,#T_a733f086_e16b_11eb_99e5_0242ac1c0002row11_col4,#T_a733f086_e16b_11eb_99e5_0242ac1c0002row11_col5,#T_a733f086_e16b_11eb_99e5_0242ac1c0002row11_col12,#T_a733f086_e16b_11eb_99e5_0242ac1c0002row12_col2,#T_a733f086_e16b_11eb_99e5_0242ac1c0002row12_col11,#T_a733f086_e16b_11eb_99e5_0242ac1c0002row14_col5,#T_a733f086_e16b_11eb_99e5_0242ac1c0002row14_col17,#T_a733f086_e16b_11eb_99e5_0242ac1c0002row17_col14{\n",
              "            background-color:  #7396f5;\n",
              "            color:  #000000;\n",
              "        }#T_a733f086_e16b_11eb_99e5_0242ac1c0002row2_col13,#T_a733f086_e16b_11eb_99e5_0242ac1c0002row13_col2{\n",
              "            background-color:  #cedaeb;\n",
              "            color:  #000000;\n",
              "        }#T_a733f086_e16b_11eb_99e5_0242ac1c0002row2_col20,#T_a733f086_e16b_11eb_99e5_0242ac1c0002row20_col2{\n",
              "            background-color:  #ead4c8;\n",
              "            color:  #000000;\n",
              "        }#T_a733f086_e16b_11eb_99e5_0242ac1c0002row3_col4,#T_a733f086_e16b_11eb_99e5_0242ac1c0002row4_col3,#T_a733f086_e16b_11eb_99e5_0242ac1c0002row6_col17,#T_a733f086_e16b_11eb_99e5_0242ac1c0002row9_col12,#T_a733f086_e16b_11eb_99e5_0242ac1c0002row9_col13,#T_a733f086_e16b_11eb_99e5_0242ac1c0002row9_col20,#T_a733f086_e16b_11eb_99e5_0242ac1c0002row12_col9,#T_a733f086_e16b_11eb_99e5_0242ac1c0002row13_col9,#T_a733f086_e16b_11eb_99e5_0242ac1c0002row17_col6,#T_a733f086_e16b_11eb_99e5_0242ac1c0002row20_col9{\n",
              "            background-color:  #7da0f9;\n",
              "            color:  #000000;\n",
              "        }#T_a733f086_e16b_11eb_99e5_0242ac1c0002row3_col6,#T_a733f086_e16b_11eb_99e5_0242ac1c0002row6_col3,#T_a733f086_e16b_11eb_99e5_0242ac1c0002row6_col7,#T_a733f086_e16b_11eb_99e5_0242ac1c0002row6_col11,#T_a733f086_e16b_11eb_99e5_0242ac1c0002row6_col12,#T_a733f086_e16b_11eb_99e5_0242ac1c0002row7_col6,#T_a733f086_e16b_11eb_99e5_0242ac1c0002row11_col6,#T_a733f086_e16b_11eb_99e5_0242ac1c0002row12_col6{\n",
              "            background-color:  #6384eb;\n",
              "            color:  #000000;\n",
              "        }#T_a733f086_e16b_11eb_99e5_0242ac1c0002row3_col7,#T_a733f086_e16b_11eb_99e5_0242ac1c0002row4_col6,#T_a733f086_e16b_11eb_99e5_0242ac1c0002row4_col12,#T_a733f086_e16b_11eb_99e5_0242ac1c0002row6_col4,#T_a733f086_e16b_11eb_99e5_0242ac1c0002row7_col3,#T_a733f086_e16b_11eb_99e5_0242ac1c0002row10_col13,#T_a733f086_e16b_11eb_99e5_0242ac1c0002row12_col4,#T_a733f086_e16b_11eb_99e5_0242ac1c0002row12_col15,#T_a733f086_e16b_11eb_99e5_0242ac1c0002row13_col10,#T_a733f086_e16b_11eb_99e5_0242ac1c0002row15_col12{\n",
              "            background-color:  #6c8ff1;\n",
              "            color:  #000000;\n",
              "        }#T_a733f086_e16b_11eb_99e5_0242ac1c0002row3_col11,#T_a733f086_e16b_11eb_99e5_0242ac1c0002row4_col5,#T_a733f086_e16b_11eb_99e5_0242ac1c0002row4_col10,#T_a733f086_e16b_11eb_99e5_0242ac1c0002row5_col4,#T_a733f086_e16b_11eb_99e5_0242ac1c0002row6_col15,#T_a733f086_e16b_11eb_99e5_0242ac1c0002row8_col13,#T_a733f086_e16b_11eb_99e5_0242ac1c0002row10_col4,#T_a733f086_e16b_11eb_99e5_0242ac1c0002row11_col3,#T_a733f086_e16b_11eb_99e5_0242ac1c0002row13_col8,#T_a733f086_e16b_11eb_99e5_0242ac1c0002row15_col6{\n",
              "            background-color:  #6b8df0;\n",
              "            color:  #000000;\n",
              "        }#T_a733f086_e16b_11eb_99e5_0242ac1c0002row3_col12,#T_a733f086_e16b_11eb_99e5_0242ac1c0002row8_col20,#T_a733f086_e16b_11eb_99e5_0242ac1c0002row10_col14,#T_a733f086_e16b_11eb_99e5_0242ac1c0002row12_col3,#T_a733f086_e16b_11eb_99e5_0242ac1c0002row12_col14,#T_a733f086_e16b_11eb_99e5_0242ac1c0002row14_col10,#T_a733f086_e16b_11eb_99e5_0242ac1c0002row14_col12,#T_a733f086_e16b_11eb_99e5_0242ac1c0002row20_col8{\n",
              "            background-color:  #799cf8;\n",
              "            color:  #000000;\n",
              "        }#T_a733f086_e16b_11eb_99e5_0242ac1c0002row3_col13,#T_a733f086_e16b_11eb_99e5_0242ac1c0002row13_col3{\n",
              "            background-color:  #adc9fd;\n",
              "            color:  #000000;\n",
              "        }#T_a733f086_e16b_11eb_99e5_0242ac1c0002row3_col14,#T_a733f086_e16b_11eb_99e5_0242ac1c0002row14_col3{\n",
              "            background-color:  #a9c6fd;\n",
              "            color:  #000000;\n",
              "        }#T_a733f086_e16b_11eb_99e5_0242ac1c0002row3_col17,#T_a733f086_e16b_11eb_99e5_0242ac1c0002row17_col3{\n",
              "            background-color:  #90b2fe;\n",
              "            color:  #000000;\n",
              "        }#T_a733f086_e16b_11eb_99e5_0242ac1c0002row3_col20,#T_a733f086_e16b_11eb_99e5_0242ac1c0002row20_col3{\n",
              "            background-color:  #f0cdbb;\n",
              "            color:  #000000;\n",
              "        }#T_a733f086_e16b_11eb_99e5_0242ac1c0002row4_col13,#T_a733f086_e16b_11eb_99e5_0242ac1c0002row5_col7,#T_a733f086_e16b_11eb_99e5_0242ac1c0002row7_col5,#T_a733f086_e16b_11eb_99e5_0242ac1c0002row8_col17,#T_a733f086_e16b_11eb_99e5_0242ac1c0002row13_col4,#T_a733f086_e16b_11eb_99e5_0242ac1c0002row17_col8{\n",
              "            background-color:  #7b9ff9;\n",
              "            color:  #000000;\n",
              "        }#T_a733f086_e16b_11eb_99e5_0242ac1c0002row4_col15,#T_a733f086_e16b_11eb_99e5_0242ac1c0002row15_col4{\n",
              "            background-color:  #82a6fb;\n",
              "            color:  #000000;\n",
              "        }#T_a733f086_e16b_11eb_99e5_0242ac1c0002row4_col16,#T_a733f086_e16b_11eb_99e5_0242ac1c0002row7_col9,#T_a733f086_e16b_11eb_99e5_0242ac1c0002row9_col7,#T_a733f086_e16b_11eb_99e5_0242ac1c0002row16_col4,#T_a733f086_e16b_11eb_99e5_0242ac1c0002row16_col17,#T_a733f086_e16b_11eb_99e5_0242ac1c0002row17_col16{\n",
              "            background-color:  #7a9df8;\n",
              "            color:  #000000;\n",
              "        }#T_a733f086_e16b_11eb_99e5_0242ac1c0002row5_col9,#T_a733f086_e16b_11eb_99e5_0242ac1c0002row6_col10,#T_a733f086_e16b_11eb_99e5_0242ac1c0002row7_col17,#T_a733f086_e16b_11eb_99e5_0242ac1c0002row9_col5,#T_a733f086_e16b_11eb_99e5_0242ac1c0002row10_col6,#T_a733f086_e16b_11eb_99e5_0242ac1c0002row11_col16,#T_a733f086_e16b_11eb_99e5_0242ac1c0002row16_col11,#T_a733f086_e16b_11eb_99e5_0242ac1c0002row17_col7{\n",
              "            background-color:  #6e90f2;\n",
              "            color:  #000000;\n",
              "        }#T_a733f086_e16b_11eb_99e5_0242ac1c0002row5_col12,#T_a733f086_e16b_11eb_99e5_0242ac1c0002row10_col20,#T_a733f086_e16b_11eb_99e5_0242ac1c0002row12_col5,#T_a733f086_e16b_11eb_99e5_0242ac1c0002row12_col13,#T_a733f086_e16b_11eb_99e5_0242ac1c0002row13_col12,#T_a733f086_e16b_11eb_99e5_0242ac1c0002row20_col10{\n",
              "            background-color:  #8fb1fe;\n",
              "            color:  #000000;\n",
              "        }#T_a733f086_e16b_11eb_99e5_0242ac1c0002row5_col16,#T_a733f086_e16b_11eb_99e5_0242ac1c0002row10_col16,#T_a733f086_e16b_11eb_99e5_0242ac1c0002row16_col5,#T_a733f086_e16b_11eb_99e5_0242ac1c0002row16_col10{\n",
              "            background-color:  #779af7;\n",
              "            color:  #000000;\n",
              "        }#T_a733f086_e16b_11eb_99e5_0242ac1c0002row5_col17,#T_a733f086_e16b_11eb_99e5_0242ac1c0002row17_col5{\n",
              "            background-color:  #516ddb;\n",
              "            color:  #000000;\n",
              "        }#T_a733f086_e16b_11eb_99e5_0242ac1c0002row6_col13,#T_a733f086_e16b_11eb_99e5_0242ac1c0002row9_col14,#T_a733f086_e16b_11eb_99e5_0242ac1c0002row13_col6,#T_a733f086_e16b_11eb_99e5_0242ac1c0002row14_col9{\n",
              "            background-color:  #5977e3;\n",
              "            color:  #000000;\n",
              "        }#T_a733f086_e16b_11eb_99e5_0242ac1c0002row6_col16,#T_a733f086_e16b_11eb_99e5_0242ac1c0002row16_col6{\n",
              "            background-color:  #5875e1;\n",
              "            color:  #000000;\n",
              "        }#T_a733f086_e16b_11eb_99e5_0242ac1c0002row7_col10,#T_a733f086_e16b_11eb_99e5_0242ac1c0002row10_col7{\n",
              "            background-color:  #3b4cc0;\n",
              "            color:  #f1f1f1;\n",
              "        }#T_a733f086_e16b_11eb_99e5_0242ac1c0002row7_col12,#T_a733f086_e16b_11eb_99e5_0242ac1c0002row9_col17,#T_a733f086_e16b_11eb_99e5_0242ac1c0002row12_col7,#T_a733f086_e16b_11eb_99e5_0242ac1c0002row17_col9{\n",
              "            background-color:  #8db0fe;\n",
              "            color:  #000000;\n",
              "        }#T_a733f086_e16b_11eb_99e5_0242ac1c0002row7_col14,#T_a733f086_e16b_11eb_99e5_0242ac1c0002row14_col7{\n",
              "            background-color:  #5a78e4;\n",
              "            color:  #000000;\n",
              "        }#T_a733f086_e16b_11eb_99e5_0242ac1c0002row7_col15,#T_a733f086_e16b_11eb_99e5_0242ac1c0002row15_col7{\n",
              "            background-color:  #455cce;\n",
              "            color:  #f1f1f1;\n",
              "        }#T_a733f086_e16b_11eb_99e5_0242ac1c0002row9_col16,#T_a733f086_e16b_11eb_99e5_0242ac1c0002row16_col9{\n",
              "            background-color:  #5b7ae5;\n",
              "            color:  #000000;\n",
              "        }#T_a733f086_e16b_11eb_99e5_0242ac1c0002row10_col12,#T_a733f086_e16b_11eb_99e5_0242ac1c0002row11_col13,#T_a733f086_e16b_11eb_99e5_0242ac1c0002row12_col10,#T_a733f086_e16b_11eb_99e5_0242ac1c0002row13_col11{\n",
              "            background-color:  #5e7de7;\n",
              "            color:  #000000;\n",
              "        }#T_a733f086_e16b_11eb_99e5_0242ac1c0002row12_col20,#T_a733f086_e16b_11eb_99e5_0242ac1c0002row20_col12{\n",
              "            background-color:  #7093f3;\n",
              "            color:  #000000;\n",
              "        }#T_a733f086_e16b_11eb_99e5_0242ac1c0002row13_col17,#T_a733f086_e16b_11eb_99e5_0242ac1c0002row17_col13{\n",
              "            background-color:  #9bbcff;\n",
              "            color:  #000000;\n",
              "        }#T_a733f086_e16b_11eb_99e5_0242ac1c0002row14_col15,#T_a733f086_e16b_11eb_99e5_0242ac1c0002row15_col14{\n",
              "            background-color:  #b5cdfa;\n",
              "            color:  #000000;\n",
              "        }#T_a733f086_e16b_11eb_99e5_0242ac1c0002row14_col20,#T_a733f086_e16b_11eb_99e5_0242ac1c0002row20_col14{\n",
              "            background-color:  #d4dbe6;\n",
              "            color:  #000000;\n",
              "        }#T_a733f086_e16b_11eb_99e5_0242ac1c0002row15_col17,#T_a733f086_e16b_11eb_99e5_0242ac1c0002row17_col15{\n",
              "            background-color:  #84a7fc;\n",
              "            color:  #000000;\n",
              "        }#T_a733f086_e16b_11eb_99e5_0242ac1c0002row15_col20,#T_a733f086_e16b_11eb_99e5_0242ac1c0002row20_col15{\n",
              "            background-color:  #dbdcde;\n",
              "            color:  #000000;\n",
              "        }#T_a733f086_e16b_11eb_99e5_0242ac1c0002row16_col20,#T_a733f086_e16b_11eb_99e5_0242ac1c0002row20_col16{\n",
              "            background-color:  #94b6ff;\n",
              "            color:  #000000;\n",
              "        }</style><table id=\"T_a733f086_e16b_11eb_99e5_0242ac1c0002\" ><thead>    <tr>        <th class=\"blank level0\" ></th>        <th class=\"col_heading level0 col0\" >Breathing Problem</th>        <th class=\"col_heading level0 col1\" >Fever</th>        <th class=\"col_heading level0 col2\" >Dry Cough</th>        <th class=\"col_heading level0 col3\" >Sore throat</th>        <th class=\"col_heading level0 col4\" >Running Nose</th>        <th class=\"col_heading level0 col5\" >Asthma</th>        <th class=\"col_heading level0 col6\" >Chronic Lung Disease</th>        <th class=\"col_heading level0 col7\" >Headache</th>        <th class=\"col_heading level0 col8\" >Heart Disease</th>        <th class=\"col_heading level0 col9\" >Diabetes</th>        <th class=\"col_heading level0 col10\" >Hyper Tension</th>        <th class=\"col_heading level0 col11\" >Fatigue </th>        <th class=\"col_heading level0 col12\" >Gastrointestinal </th>        <th class=\"col_heading level0 col13\" >Abroad travel</th>        <th class=\"col_heading level0 col14\" >Contact with COVID Patient</th>        <th class=\"col_heading level0 col15\" >Attended Large Gathering</th>        <th class=\"col_heading level0 col16\" >Visited Public Exposed Places</th>        <th class=\"col_heading level0 col17\" >Family working in Public Exposed Places</th>        <th class=\"col_heading level0 col18\" >Wearing Masks</th>        <th class=\"col_heading level0 col19\" >Sanitization from Market</th>        <th class=\"col_heading level0 col20\" >COVID-19</th>    </tr></thead><tbody>\n",
              "                <tr>\n",
              "                        <th id=\"T_a733f086_e16b_11eb_99e5_0242ac1c0002level0_row0\" class=\"row_heading level0 row0\" >Breathing Problem</th>\n",
              "                        <td id=\"T_a733f086_e16b_11eb_99e5_0242ac1c0002row0_col0\" class=\"data row0 col0\" >1.000000</td>\n",
              "                        <td id=\"T_a733f086_e16b_11eb_99e5_0242ac1c0002row0_col1\" class=\"data row0 col1\" >0.089903</td>\n",
              "                        <td id=\"T_a733f086_e16b_11eb_99e5_0242ac1c0002row0_col2\" class=\"data row0 col2\" >0.159562</td>\n",
              "                        <td id=\"T_a733f086_e16b_11eb_99e5_0242ac1c0002row0_col3\" class=\"data row0 col3\" >0.303768</td>\n",
              "                        <td id=\"T_a733f086_e16b_11eb_99e5_0242ac1c0002row0_col4\" class=\"data row0 col4\" >0.055190</td>\n",
              "                        <td id=\"T_a733f086_e16b_11eb_99e5_0242ac1c0002row0_col5\" class=\"data row0 col5\" >0.075318</td>\n",
              "                        <td id=\"T_a733f086_e16b_11eb_99e5_0242ac1c0002row0_col6\" class=\"data row0 col6\" >-0.098291</td>\n",
              "                        <td id=\"T_a733f086_e16b_11eb_99e5_0242ac1c0002row0_col7\" class=\"data row0 col7\" >-0.062172</td>\n",
              "                        <td id=\"T_a733f086_e16b_11eb_99e5_0242ac1c0002row0_col8\" class=\"data row0 col8\" >-0.073366</td>\n",
              "                        <td id=\"T_a733f086_e16b_11eb_99e5_0242ac1c0002row0_col9\" class=\"data row0 col9\" >0.055427</td>\n",
              "                        <td id=\"T_a733f086_e16b_11eb_99e5_0242ac1c0002row0_col10\" class=\"data row0 col10\" >0.045256</td>\n",
              "                        <td id=\"T_a733f086_e16b_11eb_99e5_0242ac1c0002row0_col11\" class=\"data row0 col11\" >0.000561</td>\n",
              "                        <td id=\"T_a733f086_e16b_11eb_99e5_0242ac1c0002row0_col12\" class=\"data row0 col12\" >-0.075390</td>\n",
              "                        <td id=\"T_a733f086_e16b_11eb_99e5_0242ac1c0002row0_col13\" class=\"data row0 col13\" >0.117795</td>\n",
              "                        <td id=\"T_a733f086_e16b_11eb_99e5_0242ac1c0002row0_col14\" class=\"data row0 col14\" >0.214634</td>\n",
              "                        <td id=\"T_a733f086_e16b_11eb_99e5_0242ac1c0002row0_col15\" class=\"data row0 col15\" >0.200304</td>\n",
              "                        <td id=\"T_a733f086_e16b_11eb_99e5_0242ac1c0002row0_col16\" class=\"data row0 col16\" >0.066688</td>\n",
              "                        <td id=\"T_a733f086_e16b_11eb_99e5_0242ac1c0002row0_col17\" class=\"data row0 col17\" >0.018295</td>\n",
              "                        <td id=\"T_a733f086_e16b_11eb_99e5_0242ac1c0002row0_col18\" class=\"data row0 col18\" >nan</td>\n",
              "                        <td id=\"T_a733f086_e16b_11eb_99e5_0242ac1c0002row0_col19\" class=\"data row0 col19\" >nan</td>\n",
              "                        <td id=\"T_a733f086_e16b_11eb_99e5_0242ac1c0002row0_col20\" class=\"data row0 col20\" >0.443764</td>\n",
              "            </tr>\n",
              "            <tr>\n",
              "                        <th id=\"T_a733f086_e16b_11eb_99e5_0242ac1c0002level0_row1\" class=\"row_heading level0 row1\" >Fever</th>\n",
              "                        <td id=\"T_a733f086_e16b_11eb_99e5_0242ac1c0002row1_col0\" class=\"data row1 col0\" >0.089903</td>\n",
              "                        <td id=\"T_a733f086_e16b_11eb_99e5_0242ac1c0002row1_col1\" class=\"data row1 col1\" >1.000000</td>\n",
              "                        <td id=\"T_a733f086_e16b_11eb_99e5_0242ac1c0002row1_col2\" class=\"data row1 col2\" >0.127580</td>\n",
              "                        <td id=\"T_a733f086_e16b_11eb_99e5_0242ac1c0002row1_col3\" class=\"data row1 col3\" >0.322235</td>\n",
              "                        <td id=\"T_a733f086_e16b_11eb_99e5_0242ac1c0002row1_col4\" class=\"data row1 col4\" >0.081758</td>\n",
              "                        <td id=\"T_a733f086_e16b_11eb_99e5_0242ac1c0002row1_col5\" class=\"data row1 col5\" >0.073953</td>\n",
              "                        <td id=\"T_a733f086_e16b_11eb_99e5_0242ac1c0002row1_col6\" class=\"data row1 col6\" >-0.025160</td>\n",
              "                        <td id=\"T_a733f086_e16b_11eb_99e5_0242ac1c0002row1_col7\" class=\"data row1 col7\" >-0.035416</td>\n",
              "                        <td id=\"T_a733f086_e16b_11eb_99e5_0242ac1c0002row1_col8\" class=\"data row1 col8\" >-0.031462</td>\n",
              "                        <td id=\"T_a733f086_e16b_11eb_99e5_0242ac1c0002row1_col9\" class=\"data row1 col9\" >0.050286</td>\n",
              "                        <td id=\"T_a733f086_e16b_11eb_99e5_0242ac1c0002row1_col10\" class=\"data row1 col10\" >0.079001</td>\n",
              "                        <td id=\"T_a733f086_e16b_11eb_99e5_0242ac1c0002row1_col11\" class=\"data row1 col11\" >-0.060458</td>\n",
              "                        <td id=\"T_a733f086_e16b_11eb_99e5_0242ac1c0002row1_col12\" class=\"data row1 col12\" >-0.008067</td>\n",
              "                        <td id=\"T_a733f086_e16b_11eb_99e5_0242ac1c0002row1_col13\" class=\"data row1 col13\" >0.128726</td>\n",
              "                        <td id=\"T_a733f086_e16b_11eb_99e5_0242ac1c0002row1_col14\" class=\"data row1 col14\" >0.164704</td>\n",
              "                        <td id=\"T_a733f086_e16b_11eb_99e5_0242ac1c0002row1_col15\" class=\"data row1 col15\" >0.070490</td>\n",
              "                        <td id=\"T_a733f086_e16b_11eb_99e5_0242ac1c0002row1_col16\" class=\"data row1 col16\" >0.002252</td>\n",
              "                        <td id=\"T_a733f086_e16b_11eb_99e5_0242ac1c0002row1_col17\" class=\"data row1 col17\" >0.012102</td>\n",
              "                        <td id=\"T_a733f086_e16b_11eb_99e5_0242ac1c0002row1_col18\" class=\"data row1 col18\" >nan</td>\n",
              "                        <td id=\"T_a733f086_e16b_11eb_99e5_0242ac1c0002row1_col19\" class=\"data row1 col19\" >nan</td>\n",
              "                        <td id=\"T_a733f086_e16b_11eb_99e5_0242ac1c0002row1_col20\" class=\"data row1 col20\" >0.352891</td>\n",
              "            </tr>\n",
              "            <tr>\n",
              "                        <th id=\"T_a733f086_e16b_11eb_99e5_0242ac1c0002level0_row2\" class=\"row_heading level0 row2\" >Dry Cough</th>\n",
              "                        <td id=\"T_a733f086_e16b_11eb_99e5_0242ac1c0002row2_col0\" class=\"data row2 col0\" >0.159562</td>\n",
              "                        <td id=\"T_a733f086_e16b_11eb_99e5_0242ac1c0002row2_col1\" class=\"data row2 col1\" >0.127580</td>\n",
              "                        <td id=\"T_a733f086_e16b_11eb_99e5_0242ac1c0002row2_col2\" class=\"data row2 col2\" >1.000000</td>\n",
              "                        <td id=\"T_a733f086_e16b_11eb_99e5_0242ac1c0002row2_col3\" class=\"data row2 col3\" >0.213907</td>\n",
              "                        <td id=\"T_a733f086_e16b_11eb_99e5_0242ac1c0002row2_col4\" class=\"data row2 col4\" >-0.030763</td>\n",
              "                        <td id=\"T_a733f086_e16b_11eb_99e5_0242ac1c0002row2_col5\" class=\"data row2 col5\" >0.086843</td>\n",
              "                        <td id=\"T_a733f086_e16b_11eb_99e5_0242ac1c0002row2_col6\" class=\"data row2 col6\" >-0.043664</td>\n",
              "                        <td id=\"T_a733f086_e16b_11eb_99e5_0242ac1c0002row2_col7\" class=\"data row2 col7\" >-0.035912</td>\n",
              "                        <td id=\"T_a733f086_e16b_11eb_99e5_0242ac1c0002row2_col8\" class=\"data row2 col8\" >0.047566</td>\n",
              "                        <td id=\"T_a733f086_e16b_11eb_99e5_0242ac1c0002row2_col9\" class=\"data row2 col9\" >-0.006593</td>\n",
              "                        <td id=\"T_a733f086_e16b_11eb_99e5_0242ac1c0002row2_col10\" class=\"data row2 col10\" >0.081989</td>\n",
              "                        <td id=\"T_a733f086_e16b_11eb_99e5_0242ac1c0002row2_col11\" class=\"data row2 col11\" >-0.039909</td>\n",
              "                        <td id=\"T_a733f086_e16b_11eb_99e5_0242ac1c0002row2_col12\" class=\"data row2 col12\" >0.008251</td>\n",
              "                        <td id=\"T_a733f086_e16b_11eb_99e5_0242ac1c0002row2_col13\" class=\"data row2 col13\" >0.331418</td>\n",
              "                        <td id=\"T_a733f086_e16b_11eb_99e5_0242ac1c0002row2_col14\" class=\"data row2 col14\" >0.128330</td>\n",
              "                        <td id=\"T_a733f086_e16b_11eb_99e5_0242ac1c0002row2_col15\" class=\"data row2 col15\" >0.117963</td>\n",
              "                        <td id=\"T_a733f086_e16b_11eb_99e5_0242ac1c0002row2_col16\" class=\"data row2 col16\" >0.086176</td>\n",
              "                        <td id=\"T_a733f086_e16b_11eb_99e5_0242ac1c0002row2_col17\" class=\"data row2 col17\" >0.163102</td>\n",
              "                        <td id=\"T_a733f086_e16b_11eb_99e5_0242ac1c0002row2_col18\" class=\"data row2 col18\" >nan</td>\n",
              "                        <td id=\"T_a733f086_e16b_11eb_99e5_0242ac1c0002row2_col19\" class=\"data row2 col19\" >nan</td>\n",
              "                        <td id=\"T_a733f086_e16b_11eb_99e5_0242ac1c0002row2_col20\" class=\"data row2 col20\" >0.464292</td>\n",
              "            </tr>\n",
              "            <tr>\n",
              "                        <th id=\"T_a733f086_e16b_11eb_99e5_0242ac1c0002level0_row3\" class=\"row_heading level0 row3\" >Sore throat</th>\n",
              "                        <td id=\"T_a733f086_e16b_11eb_99e5_0242ac1c0002row3_col0\" class=\"data row3 col0\" >0.303768</td>\n",
              "                        <td id=\"T_a733f086_e16b_11eb_99e5_0242ac1c0002row3_col1\" class=\"data row3 col1\" >0.322235</td>\n",
              "                        <td id=\"T_a733f086_e16b_11eb_99e5_0242ac1c0002row3_col2\" class=\"data row3 col2\" >0.213907</td>\n",
              "                        <td id=\"T_a733f086_e16b_11eb_99e5_0242ac1c0002row3_col3\" class=\"data row3 col3\" >1.000000</td>\n",
              "                        <td id=\"T_a733f086_e16b_11eb_99e5_0242ac1c0002row3_col4\" class=\"data row3 col4\" >0.039450</td>\n",
              "                        <td id=\"T_a733f086_e16b_11eb_99e5_0242ac1c0002row3_col5\" class=\"data row3 col5\" >0.081377</td>\n",
              "                        <td id=\"T_a733f086_e16b_11eb_99e5_0242ac1c0002row3_col6\" class=\"data row3 col6\" >-0.050440</td>\n",
              "                        <td id=\"T_a733f086_e16b_11eb_99e5_0242ac1c0002row3_col7\" class=\"data row3 col7\" >-0.015971</td>\n",
              "                        <td id=\"T_a733f086_e16b_11eb_99e5_0242ac1c0002row3_col8\" class=\"data row3 col8\" >0.002177</td>\n",
              "                        <td id=\"T_a733f086_e16b_11eb_99e5_0242ac1c0002row3_col9\" class=\"data row3 col9\" >0.001938</td>\n",
              "                        <td id=\"T_a733f086_e16b_11eb_99e5_0242ac1c0002row3_col10\" class=\"data row3 col10\" >0.042811</td>\n",
              "                        <td id=\"T_a733f086_e16b_11eb_99e5_0242ac1c0002row3_col11\" class=\"data row3 col11\" >-0.023290</td>\n",
              "                        <td id=\"T_a733f086_e16b_11eb_99e5_0242ac1c0002row3_col12\" class=\"data row3 col12\" >0.025886</td>\n",
              "                        <td id=\"T_a733f086_e16b_11eb_99e5_0242ac1c0002row3_col13\" class=\"data row3 col13\" >0.205986</td>\n",
              "                        <td id=\"T_a733f086_e16b_11eb_99e5_0242ac1c0002row3_col14\" class=\"data row3 col14\" >0.189251</td>\n",
              "                        <td id=\"T_a733f086_e16b_11eb_99e5_0242ac1c0002row3_col15\" class=\"data row3 col15\" >0.216438</td>\n",
              "                        <td id=\"T_a733f086_e16b_11eb_99e5_0242ac1c0002row3_col16\" class=\"data row3 col16\" >0.079055</td>\n",
              "                        <td id=\"T_a733f086_e16b_11eb_99e5_0242ac1c0002row3_col17\" class=\"data row3 col17\" >0.104378</td>\n",
              "                        <td id=\"T_a733f086_e16b_11eb_99e5_0242ac1c0002row3_col18\" class=\"data row3 col18\" >nan</td>\n",
              "                        <td id=\"T_a733f086_e16b_11eb_99e5_0242ac1c0002row3_col19\" class=\"data row3 col19\" >nan</td>\n",
              "                        <td id=\"T_a733f086_e16b_11eb_99e5_0242ac1c0002row3_col20\" class=\"data row3 col20\" >0.502848</td>\n",
              "            </tr>\n",
              "            <tr>\n",
              "                        <th id=\"T_a733f086_e16b_11eb_99e5_0242ac1c0002level0_row4\" class=\"row_heading level0 row4\" >Running Nose</th>\n",
              "                        <td id=\"T_a733f086_e16b_11eb_99e5_0242ac1c0002row4_col0\" class=\"data row4 col0\" >0.055190</td>\n",
              "                        <td id=\"T_a733f086_e16b_11eb_99e5_0242ac1c0002row4_col1\" class=\"data row4 col1\" >0.081758</td>\n",
              "                        <td id=\"T_a733f086_e16b_11eb_99e5_0242ac1c0002row4_col2\" class=\"data row4 col2\" >-0.030763</td>\n",
              "                        <td id=\"T_a733f086_e16b_11eb_99e5_0242ac1c0002row4_col3\" class=\"data row4 col3\" >0.039450</td>\n",
              "                        <td id=\"T_a733f086_e16b_11eb_99e5_0242ac1c0002row4_col4\" class=\"data row4 col4\" >1.000000</td>\n",
              "                        <td id=\"T_a733f086_e16b_11eb_99e5_0242ac1c0002row4_col5\" class=\"data row4 col5\" >-0.022763</td>\n",
              "                        <td id=\"T_a733f086_e16b_11eb_99e5_0242ac1c0002row4_col6\" class=\"data row4 col6\" >-0.014376</td>\n",
              "                        <td id=\"T_a733f086_e16b_11eb_99e5_0242ac1c0002row4_col7\" class=\"data row4 col7\" >0.068479</td>\n",
              "                        <td id=\"T_a733f086_e16b_11eb_99e5_0242ac1c0002row4_col8\" class=\"data row4 col8\" >-0.056750</td>\n",
              "                        <td id=\"T_a733f086_e16b_11eb_99e5_0242ac1c0002row4_col9\" class=\"data row4 col9\" >0.042961</td>\n",
              "                        <td id=\"T_a733f086_e16b_11eb_99e5_0242ac1c0002row4_col10\" class=\"data row4 col10\" >-0.020445</td>\n",
              "                        <td id=\"T_a733f086_e16b_11eb_99e5_0242ac1c0002row4_col11\" class=\"data row4 col11\" >0.007026</td>\n",
              "                        <td id=\"T_a733f086_e16b_11eb_99e5_0242ac1c0002row4_col12\" class=\"data row4 col12\" >-0.014673</td>\n",
              "                        <td id=\"T_a733f086_e16b_11eb_99e5_0242ac1c0002row4_col13\" class=\"data row4 col13\" >0.034526</td>\n",
              "                        <td id=\"T_a733f086_e16b_11eb_99e5_0242ac1c0002row4_col14\" class=\"data row4 col14\" >0.003776</td>\n",
              "                        <td id=\"T_a733f086_e16b_11eb_99e5_0242ac1c0002row4_col15\" class=\"data row4 col15\" >0.061099</td>\n",
              "                        <td id=\"T_a733f086_e16b_11eb_99e5_0242ac1c0002row4_col16\" class=\"data row4 col16\" >0.032568</td>\n",
              "                        <td id=\"T_a733f086_e16b_11eb_99e5_0242ac1c0002row4_col17\" class=\"data row4 col17\" >-0.061323</td>\n",
              "                        <td id=\"T_a733f086_e16b_11eb_99e5_0242ac1c0002row4_col18\" class=\"data row4 col18\" >nan</td>\n",
              "                        <td id=\"T_a733f086_e16b_11eb_99e5_0242ac1c0002row4_col19\" class=\"data row4 col19\" >nan</td>\n",
              "                        <td id=\"T_a733f086_e16b_11eb_99e5_0242ac1c0002row4_col20\" class=\"data row4 col20\" >-0.005657</td>\n",
              "            </tr>\n",
              "            <tr>\n",
              "                        <th id=\"T_a733f086_e16b_11eb_99e5_0242ac1c0002level0_row5\" class=\"row_heading level0 row5\" >Asthma</th>\n",
              "                        <td id=\"T_a733f086_e16b_11eb_99e5_0242ac1c0002row5_col0\" class=\"data row5 col0\" >0.075318</td>\n",
              "                        <td id=\"T_a733f086_e16b_11eb_99e5_0242ac1c0002row5_col1\" class=\"data row5 col1\" >0.073953</td>\n",
              "                        <td id=\"T_a733f086_e16b_11eb_99e5_0242ac1c0002row5_col2\" class=\"data row5 col2\" >0.086843</td>\n",
              "                        <td id=\"T_a733f086_e16b_11eb_99e5_0242ac1c0002row5_col3\" class=\"data row5 col3\" >0.081377</td>\n",
              "                        <td id=\"T_a733f086_e16b_11eb_99e5_0242ac1c0002row5_col4\" class=\"data row5 col4\" >-0.022763</td>\n",
              "                        <td id=\"T_a733f086_e16b_11eb_99e5_0242ac1c0002row5_col5\" class=\"data row5 col5\" >1.000000</td>\n",
              "                        <td id=\"T_a733f086_e16b_11eb_99e5_0242ac1c0002row5_col6\" class=\"data row5 col6\" >-0.033771</td>\n",
              "                        <td id=\"T_a733f086_e16b_11eb_99e5_0242ac1c0002row5_col7\" class=\"data row5 col7\" >0.037064</td>\n",
              "                        <td id=\"T_a733f086_e16b_11eb_99e5_0242ac1c0002row5_col8\" class=\"data row5 col8\" >0.076783</td>\n",
              "                        <td id=\"T_a733f086_e16b_11eb_99e5_0242ac1c0002row5_col9\" class=\"data row5 col9\" >-0.012060</td>\n",
              "                        <td id=\"T_a733f086_e16b_11eb_99e5_0242ac1c0002row5_col10\" class=\"data row5 col10\" >0.017707</td>\n",
              "                        <td id=\"T_a733f086_e16b_11eb_99e5_0242ac1c0002row5_col11\" class=\"data row5 col11\" >0.006564</td>\n",
              "                        <td id=\"T_a733f086_e16b_11eb_99e5_0242ac1c0002row5_col12\" class=\"data row5 col12\" >0.101909</td>\n",
              "                        <td id=\"T_a733f086_e16b_11eb_99e5_0242ac1c0002row5_col13\" class=\"data row5 col13\" >0.068286</td>\n",
              "                        <td id=\"T_a733f086_e16b_11eb_99e5_0242ac1c0002row5_col14\" class=\"data row5 col14\" >0.005046</td>\n",
              "                        <td id=\"T_a733f086_e16b_11eb_99e5_0242ac1c0002row5_col15\" class=\"data row5 col15\" >-0.044592</td>\n",
              "                        <td id=\"T_a733f086_e16b_11eb_99e5_0242ac1c0002row5_col16\" class=\"data row5 col16\" >0.020941</td>\n",
              "                        <td id=\"T_a733f086_e16b_11eb_99e5_0242ac1c0002row5_col17\" class=\"data row5 col17\" >-0.115679</td>\n",
              "                        <td id=\"T_a733f086_e16b_11eb_99e5_0242ac1c0002row5_col18\" class=\"data row5 col18\" >nan</td>\n",
              "                        <td id=\"T_a733f086_e16b_11eb_99e5_0242ac1c0002row5_col19\" class=\"data row5 col19\" >nan</td>\n",
              "                        <td id=\"T_a733f086_e16b_11eb_99e5_0242ac1c0002row5_col20\" class=\"data row5 col20\" >0.089930</td>\n",
              "            </tr>\n",
              "            <tr>\n",
              "                        <th id=\"T_a733f086_e16b_11eb_99e5_0242ac1c0002level0_row6\" class=\"row_heading level0 row6\" >Chronic Lung Disease</th>\n",
              "                        <td id=\"T_a733f086_e16b_11eb_99e5_0242ac1c0002row6_col0\" class=\"data row6 col0\" >-0.098291</td>\n",
              "                        <td id=\"T_a733f086_e16b_11eb_99e5_0242ac1c0002row6_col1\" class=\"data row6 col1\" >-0.025160</td>\n",
              "                        <td id=\"T_a733f086_e16b_11eb_99e5_0242ac1c0002row6_col2\" class=\"data row6 col2\" >-0.043664</td>\n",
              "                        <td id=\"T_a733f086_e16b_11eb_99e5_0242ac1c0002row6_col3\" class=\"data row6 col3\" >-0.050440</td>\n",
              "                        <td id=\"T_a733f086_e16b_11eb_99e5_0242ac1c0002row6_col4\" class=\"data row6 col4\" >-0.014376</td>\n",
              "                        <td id=\"T_a733f086_e16b_11eb_99e5_0242ac1c0002row6_col5\" class=\"data row6 col5\" >-0.033771</td>\n",
              "                        <td id=\"T_a733f086_e16b_11eb_99e5_0242ac1c0002row6_col6\" class=\"data row6 col6\" >1.000000</td>\n",
              "                        <td id=\"T_a733f086_e16b_11eb_99e5_0242ac1c0002row6_col7\" class=\"data row6 col7\" >-0.050480</td>\n",
              "                        <td id=\"T_a733f086_e16b_11eb_99e5_0242ac1c0002row6_col8\" class=\"data row6 col8\" >-0.039860</td>\n",
              "                        <td id=\"T_a733f086_e16b_11eb_99e5_0242ac1c0002row6_col9\" class=\"data row6 col9\" >0.046789</td>\n",
              "                        <td id=\"T_a733f086_e16b_11eb_99e5_0242ac1c0002row6_col10\" class=\"data row6 col10\" >-0.010331</td>\n",
              "                        <td id=\"T_a733f086_e16b_11eb_99e5_0242ac1c0002row6_col11\" class=\"data row6 col11\" >-0.047655</td>\n",
              "                        <td id=\"T_a733f086_e16b_11eb_99e5_0242ac1c0002row6_col12\" class=\"data row6 col12\" >-0.050333</td>\n",
              "                        <td id=\"T_a733f086_e16b_11eb_99e5_0242ac1c0002row6_col13\" class=\"data row6 col13\" >-0.088854</td>\n",
              "                        <td id=\"T_a733f086_e16b_11eb_99e5_0242ac1c0002row6_col14\" class=\"data row6 col14\" >-0.062482</td>\n",
              "                        <td id=\"T_a733f086_e16b_11eb_99e5_0242ac1c0002row6_col15\" class=\"data row6 col15\" >-0.020548</td>\n",
              "                        <td id=\"T_a733f086_e16b_11eb_99e5_0242ac1c0002row6_col16\" class=\"data row6 col16\" >-0.093049</td>\n",
              "                        <td id=\"T_a733f086_e16b_11eb_99e5_0242ac1c0002row6_col17\" class=\"data row6 col17\" >0.038343</td>\n",
              "                        <td id=\"T_a733f086_e16b_11eb_99e5_0242ac1c0002row6_col18\" class=\"data row6 col18\" >nan</td>\n",
              "                        <td id=\"T_a733f086_e16b_11eb_99e5_0242ac1c0002row6_col19\" class=\"data row6 col19\" >nan</td>\n",
              "                        <td id=\"T_a733f086_e16b_11eb_99e5_0242ac1c0002row6_col20\" class=\"data row6 col20\" >-0.056837</td>\n",
              "            </tr>\n",
              "            <tr>\n",
              "                        <th id=\"T_a733f086_e16b_11eb_99e5_0242ac1c0002level0_row7\" class=\"row_heading level0 row7\" >Headache</th>\n",
              "                        <td id=\"T_a733f086_e16b_11eb_99e5_0242ac1c0002row7_col0\" class=\"data row7 col0\" >-0.062172</td>\n",
              "                        <td id=\"T_a733f086_e16b_11eb_99e5_0242ac1c0002row7_col1\" class=\"data row7 col1\" >-0.035416</td>\n",
              "                        <td id=\"T_a733f086_e16b_11eb_99e5_0242ac1c0002row7_col2\" class=\"data row7 col2\" >-0.035912</td>\n",
              "                        <td id=\"T_a733f086_e16b_11eb_99e5_0242ac1c0002row7_col3\" class=\"data row7 col3\" >-0.015971</td>\n",
              "                        <td id=\"T_a733f086_e16b_11eb_99e5_0242ac1c0002row7_col4\" class=\"data row7 col4\" >0.068479</td>\n",
              "                        <td id=\"T_a733f086_e16b_11eb_99e5_0242ac1c0002row7_col5\" class=\"data row7 col5\" >0.037064</td>\n",
              "                        <td id=\"T_a733f086_e16b_11eb_99e5_0242ac1c0002row7_col6\" class=\"data row7 col6\" >-0.050480</td>\n",
              "                        <td id=\"T_a733f086_e16b_11eb_99e5_0242ac1c0002row7_col7\" class=\"data row7 col7\" >1.000000</td>\n",
              "                        <td id=\"T_a733f086_e16b_11eb_99e5_0242ac1c0002row7_col8\" class=\"data row7 col8\" >0.048471</td>\n",
              "                        <td id=\"T_a733f086_e16b_11eb_99e5_0242ac1c0002row7_col9\" class=\"data row7 col9\" >0.032390</td>\n",
              "                        <td id=\"T_a733f086_e16b_11eb_99e5_0242ac1c0002row7_col10\" class=\"data row7 col10\" >-0.207489</td>\n",
              "                        <td id=\"T_a733f086_e16b_11eb_99e5_0242ac1c0002row7_col11\" class=\"data row7 col11\" >0.052035</td>\n",
              "                        <td id=\"T_a733f086_e16b_11eb_99e5_0242ac1c0002row7_col12\" class=\"data row7 col12\" >0.097778</td>\n",
              "                        <td id=\"T_a733f086_e16b_11eb_99e5_0242ac1c0002row7_col13\" class=\"data row7 col13\" >0.043589</td>\n",
              "                        <td id=\"T_a733f086_e16b_11eb_99e5_0242ac1c0002row7_col14\" class=\"data row7 col14\" >-0.082101</td>\n",
              "                        <td id=\"T_a733f086_e16b_11eb_99e5_0242ac1c0002row7_col15\" class=\"data row7 col15\" >-0.162992</td>\n",
              "                        <td id=\"T_a733f086_e16b_11eb_99e5_0242ac1c0002row7_col16\" class=\"data row7 col16\" >-0.005790</td>\n",
              "                        <td id=\"T_a733f086_e16b_11eb_99e5_0242ac1c0002row7_col17\" class=\"data row7 col17\" >-0.012625</td>\n",
              "                        <td id=\"T_a733f086_e16b_11eb_99e5_0242ac1c0002row7_col18\" class=\"data row7 col18\" >nan</td>\n",
              "                        <td id=\"T_a733f086_e16b_11eb_99e5_0242ac1c0002row7_col19\" class=\"data row7 col19\" >nan</td>\n",
              "                        <td id=\"T_a733f086_e16b_11eb_99e5_0242ac1c0002row7_col20\" class=\"data row7 col20\" >-0.027793</td>\n",
              "            </tr>\n",
              "            <tr>\n",
              "                        <th id=\"T_a733f086_e16b_11eb_99e5_0242ac1c0002level0_row8\" class=\"row_heading level0 row8\" >Heart Disease</th>\n",
              "                        <td id=\"T_a733f086_e16b_11eb_99e5_0242ac1c0002row8_col0\" class=\"data row8 col0\" >-0.073366</td>\n",
              "                        <td id=\"T_a733f086_e16b_11eb_99e5_0242ac1c0002row8_col1\" class=\"data row8 col1\" >-0.031462</td>\n",
              "                        <td id=\"T_a733f086_e16b_11eb_99e5_0242ac1c0002row8_col2\" class=\"data row8 col2\" >0.047566</td>\n",
              "                        <td id=\"T_a733f086_e16b_11eb_99e5_0242ac1c0002row8_col3\" class=\"data row8 col3\" >0.002177</td>\n",
              "                        <td id=\"T_a733f086_e16b_11eb_99e5_0242ac1c0002row8_col4\" class=\"data row8 col4\" >-0.056750</td>\n",
              "                        <td id=\"T_a733f086_e16b_11eb_99e5_0242ac1c0002row8_col5\" class=\"data row8 col5\" >0.076783</td>\n",
              "                        <td id=\"T_a733f086_e16b_11eb_99e5_0242ac1c0002row8_col6\" class=\"data row8 col6\" >-0.039860</td>\n",
              "                        <td id=\"T_a733f086_e16b_11eb_99e5_0242ac1c0002row8_col7\" class=\"data row8 col7\" >0.048471</td>\n",
              "                        <td id=\"T_a733f086_e16b_11eb_99e5_0242ac1c0002row8_col8\" class=\"data row8 col8\" >1.000000</td>\n",
              "                        <td id=\"T_a733f086_e16b_11eb_99e5_0242ac1c0002row8_col9\" class=\"data row8 col9\" >-0.032956</td>\n",
              "                        <td id=\"T_a733f086_e16b_11eb_99e5_0242ac1c0002row8_col10\" class=\"data row8 col10\" >0.049139</td>\n",
              "                        <td id=\"T_a733f086_e16b_11eb_99e5_0242ac1c0002row8_col11\" class=\"data row8 col11\" >-0.058925</td>\n",
              "                        <td id=\"T_a733f086_e16b_11eb_99e5_0242ac1c0002row8_col12\" class=\"data row8 col12\" >0.004121</td>\n",
              "                        <td id=\"T_a733f086_e16b_11eb_99e5_0242ac1c0002row8_col13\" class=\"data row8 col13\" >-0.020761</td>\n",
              "                        <td id=\"T_a733f086_e16b_11eb_99e5_0242ac1c0002row8_col14\" class=\"data row8 col14\" >-0.025593</td>\n",
              "                        <td id=\"T_a733f086_e16b_11eb_99e5_0242ac1c0002row8_col15\" class=\"data row8 col15\" >-0.045437</td>\n",
              "                        <td id=\"T_a733f086_e16b_11eb_99e5_0242ac1c0002row8_col16\" class=\"data row8 col16\" >0.086169</td>\n",
              "                        <td id=\"T_a733f086_e16b_11eb_99e5_0242ac1c0002row8_col17\" class=\"data row8 col17\" >0.035000</td>\n",
              "                        <td id=\"T_a733f086_e16b_11eb_99e5_0242ac1c0002row8_col18\" class=\"data row8 col18\" >nan</td>\n",
              "                        <td id=\"T_a733f086_e16b_11eb_99e5_0242ac1c0002row8_col19\" class=\"data row8 col19\" >nan</td>\n",
              "                        <td id=\"T_a733f086_e16b_11eb_99e5_0242ac1c0002row8_col20\" class=\"data row8 col20\" >0.027072</td>\n",
              "            </tr>\n",
              "            <tr>\n",
              "                        <th id=\"T_a733f086_e16b_11eb_99e5_0242ac1c0002level0_row9\" class=\"row_heading level0 row9\" >Diabetes</th>\n",
              "                        <td id=\"T_a733f086_e16b_11eb_99e5_0242ac1c0002row9_col0\" class=\"data row9 col0\" >0.055427</td>\n",
              "                        <td id=\"T_a733f086_e16b_11eb_99e5_0242ac1c0002row9_col1\" class=\"data row9 col1\" >0.050286</td>\n",
              "                        <td id=\"T_a733f086_e16b_11eb_99e5_0242ac1c0002row9_col2\" class=\"data row9 col2\" >-0.006593</td>\n",
              "                        <td id=\"T_a733f086_e16b_11eb_99e5_0242ac1c0002row9_col3\" class=\"data row9 col3\" >0.001938</td>\n",
              "                        <td id=\"T_a733f086_e16b_11eb_99e5_0242ac1c0002row9_col4\" class=\"data row9 col4\" >0.042961</td>\n",
              "                        <td id=\"T_a733f086_e16b_11eb_99e5_0242ac1c0002row9_col5\" class=\"data row9 col5\" >-0.012060</td>\n",
              "                        <td id=\"T_a733f086_e16b_11eb_99e5_0242ac1c0002row9_col6\" class=\"data row9 col6\" >0.046789</td>\n",
              "                        <td id=\"T_a733f086_e16b_11eb_99e5_0242ac1c0002row9_col7\" class=\"data row9 col7\" >0.032390</td>\n",
              "                        <td id=\"T_a733f086_e16b_11eb_99e5_0242ac1c0002row9_col8\" class=\"data row9 col8\" >-0.032956</td>\n",
              "                        <td id=\"T_a733f086_e16b_11eb_99e5_0242ac1c0002row9_col9\" class=\"data row9 col9\" >1.000000</td>\n",
              "                        <td id=\"T_a733f086_e16b_11eb_99e5_0242ac1c0002row9_col10\" class=\"data row9 col10\" >0.042543</td>\n",
              "                        <td id=\"T_a733f086_e16b_11eb_99e5_0242ac1c0002row9_col11\" class=\"data row9 col11\" >-0.043903</td>\n",
              "                        <td id=\"T_a733f086_e16b_11eb_99e5_0242ac1c0002row9_col12\" class=\"data row9 col12\" >0.040651</td>\n",
              "                        <td id=\"T_a733f086_e16b_11eb_99e5_0242ac1c0002row9_col13\" class=\"data row9 col13\" >0.039013</td>\n",
              "                        <td id=\"T_a733f086_e16b_11eb_99e5_0242ac1c0002row9_col14\" class=\"data row9 col14\" >-0.085696</td>\n",
              "                        <td id=\"T_a733f086_e16b_11eb_99e5_0242ac1c0002row9_col15\" class=\"data row9 col15\" >-0.061650</td>\n",
              "                        <td id=\"T_a733f086_e16b_11eb_99e5_0242ac1c0002row9_col16\" class=\"data row9 col16\" >-0.078212</td>\n",
              "                        <td id=\"T_a733f086_e16b_11eb_99e5_0242ac1c0002row9_col17\" class=\"data row9 col17\" >0.097696</td>\n",
              "                        <td id=\"T_a733f086_e16b_11eb_99e5_0242ac1c0002row9_col18\" class=\"data row9 col18\" >nan</td>\n",
              "                        <td id=\"T_a733f086_e16b_11eb_99e5_0242ac1c0002row9_col19\" class=\"data row9 col19\" >nan</td>\n",
              "                        <td id=\"T_a733f086_e16b_11eb_99e5_0242ac1c0002row9_col20\" class=\"data row9 col20\" >0.040627</td>\n",
              "            </tr>\n",
              "            <tr>\n",
              "                        <th id=\"T_a733f086_e16b_11eb_99e5_0242ac1c0002level0_row10\" class=\"row_heading level0 row10\" >Hyper Tension</th>\n",
              "                        <td id=\"T_a733f086_e16b_11eb_99e5_0242ac1c0002row10_col0\" class=\"data row10 col0\" >0.045256</td>\n",
              "                        <td id=\"T_a733f086_e16b_11eb_99e5_0242ac1c0002row10_col1\" class=\"data row10 col1\" >0.079001</td>\n",
              "                        <td id=\"T_a733f086_e16b_11eb_99e5_0242ac1c0002row10_col2\" class=\"data row10 col2\" >0.081989</td>\n",
              "                        <td id=\"T_a733f086_e16b_11eb_99e5_0242ac1c0002row10_col3\" class=\"data row10 col3\" >0.042811</td>\n",
              "                        <td id=\"T_a733f086_e16b_11eb_99e5_0242ac1c0002row10_col4\" class=\"data row10 col4\" >-0.020445</td>\n",
              "                        <td id=\"T_a733f086_e16b_11eb_99e5_0242ac1c0002row10_col5\" class=\"data row10 col5\" >0.017707</td>\n",
              "                        <td id=\"T_a733f086_e16b_11eb_99e5_0242ac1c0002row10_col6\" class=\"data row10 col6\" >-0.010331</td>\n",
              "                        <td id=\"T_a733f086_e16b_11eb_99e5_0242ac1c0002row10_col7\" class=\"data row10 col7\" >-0.207489</td>\n",
              "                        <td id=\"T_a733f086_e16b_11eb_99e5_0242ac1c0002row10_col8\" class=\"data row10 col8\" >0.049139</td>\n",
              "                        <td id=\"T_a733f086_e16b_11eb_99e5_0242ac1c0002row10_col9\" class=\"data row10 col9\" >0.042543</td>\n",
              "                        <td id=\"T_a733f086_e16b_11eb_99e5_0242ac1c0002row10_col10\" class=\"data row10 col10\" >1.000000</td>\n",
              "                        <td id=\"T_a733f086_e16b_11eb_99e5_0242ac1c0002row10_col11\" class=\"data row10 col11\" >-0.027605</td>\n",
              "                        <td id=\"T_a733f086_e16b_11eb_99e5_0242ac1c0002row10_col12\" class=\"data row10 col12\" >-0.067972</td>\n",
              "                        <td id=\"T_a733f086_e16b_11eb_99e5_0242ac1c0002row10_col13\" class=\"data row10 col13\" >-0.016382</td>\n",
              "                        <td id=\"T_a733f086_e16b_11eb_99e5_0242ac1c0002row10_col14\" class=\"data row10 col14\" >0.027307</td>\n",
              "                        <td id=\"T_a733f086_e16b_11eb_99e5_0242ac1c0002row10_col15\" class=\"data row10 col15\" >0.002911</td>\n",
              "                        <td id=\"T_a733f086_e16b_11eb_99e5_0242ac1c0002row10_col16\" class=\"data row10 col16\" >0.019174</td>\n",
              "                        <td id=\"T_a733f086_e16b_11eb_99e5_0242ac1c0002row10_col17\" class=\"data row10 col17\" >0.048152</td>\n",
              "                        <td id=\"T_a733f086_e16b_11eb_99e5_0242ac1c0002row10_col18\" class=\"data row10 col18\" >nan</td>\n",
              "                        <td id=\"T_a733f086_e16b_11eb_99e5_0242ac1c0002row10_col19\" class=\"data row10 col19\" >nan</td>\n",
              "                        <td id=\"T_a733f086_e16b_11eb_99e5_0242ac1c0002row10_col20\" class=\"data row10 col20\" >0.102575</td>\n",
              "            </tr>\n",
              "            <tr>\n",
              "                        <th id=\"T_a733f086_e16b_11eb_99e5_0242ac1c0002level0_row11\" class=\"row_heading level0 row11\" >Fatigue </th>\n",
              "                        <td id=\"T_a733f086_e16b_11eb_99e5_0242ac1c0002row11_col0\" class=\"data row11 col0\" >0.000561</td>\n",
              "                        <td id=\"T_a733f086_e16b_11eb_99e5_0242ac1c0002row11_col1\" class=\"data row11 col1\" >-0.060458</td>\n",
              "                        <td id=\"T_a733f086_e16b_11eb_99e5_0242ac1c0002row11_col2\" class=\"data row11 col2\" >-0.039909</td>\n",
              "                        <td id=\"T_a733f086_e16b_11eb_99e5_0242ac1c0002row11_col3\" class=\"data row11 col3\" >-0.023290</td>\n",
              "                        <td id=\"T_a733f086_e16b_11eb_99e5_0242ac1c0002row11_col4\" class=\"data row11 col4\" >0.007026</td>\n",
              "                        <td id=\"T_a733f086_e16b_11eb_99e5_0242ac1c0002row11_col5\" class=\"data row11 col5\" >0.006564</td>\n",
              "                        <td id=\"T_a733f086_e16b_11eb_99e5_0242ac1c0002row11_col6\" class=\"data row11 col6\" >-0.047655</td>\n",
              "                        <td id=\"T_a733f086_e16b_11eb_99e5_0242ac1c0002row11_col7\" class=\"data row11 col7\" >0.052035</td>\n",
              "                        <td id=\"T_a733f086_e16b_11eb_99e5_0242ac1c0002row11_col8\" class=\"data row11 col8\" >-0.058925</td>\n",
              "                        <td id=\"T_a733f086_e16b_11eb_99e5_0242ac1c0002row11_col9\" class=\"data row11 col9\" >-0.043903</td>\n",
              "                        <td id=\"T_a733f086_e16b_11eb_99e5_0242ac1c0002row11_col10\" class=\"data row11 col10\" >-0.027605</td>\n",
              "                        <td id=\"T_a733f086_e16b_11eb_99e5_0242ac1c0002row11_col11\" class=\"data row11 col11\" >1.000000</td>\n",
              "                        <td id=\"T_a733f086_e16b_11eb_99e5_0242ac1c0002row11_col12\" class=\"data row11 col12\" >0.009356</td>\n",
              "                        <td id=\"T_a733f086_e16b_11eb_99e5_0242ac1c0002row11_col13\" class=\"data row11 col13\" >-0.068401</td>\n",
              "                        <td id=\"T_a733f086_e16b_11eb_99e5_0242ac1c0002row11_col14\" class=\"data row11 col14\" >-0.027383</td>\n",
              "                        <td id=\"T_a733f086_e16b_11eb_99e5_0242ac1c0002row11_col15\" class=\"data row11 col15\" >-0.031058</td>\n",
              "                        <td id=\"T_a733f086_e16b_11eb_99e5_0242ac1c0002row11_col16\" class=\"data row11 col16\" >-0.009562</td>\n",
              "                        <td id=\"T_a733f086_e16b_11eb_99e5_0242ac1c0002row11_col17\" class=\"data row11 col17\" >-0.025623</td>\n",
              "                        <td id=\"T_a733f086_e16b_11eb_99e5_0242ac1c0002row11_col18\" class=\"data row11 col18\" >nan</td>\n",
              "                        <td id=\"T_a733f086_e16b_11eb_99e5_0242ac1c0002row11_col19\" class=\"data row11 col19\" >nan</td>\n",
              "                        <td id=\"T_a733f086_e16b_11eb_99e5_0242ac1c0002row11_col20\" class=\"data row11 col20\" >-0.044188</td>\n",
              "            </tr>\n",
              "            <tr>\n",
              "                        <th id=\"T_a733f086_e16b_11eb_99e5_0242ac1c0002level0_row12\" class=\"row_heading level0 row12\" >Gastrointestinal </th>\n",
              "                        <td id=\"T_a733f086_e16b_11eb_99e5_0242ac1c0002row12_col0\" class=\"data row12 col0\" >-0.075390</td>\n",
              "                        <td id=\"T_a733f086_e16b_11eb_99e5_0242ac1c0002row12_col1\" class=\"data row12 col1\" >-0.008067</td>\n",
              "                        <td id=\"T_a733f086_e16b_11eb_99e5_0242ac1c0002row12_col2\" class=\"data row12 col2\" >0.008251</td>\n",
              "                        <td id=\"T_a733f086_e16b_11eb_99e5_0242ac1c0002row12_col3\" class=\"data row12 col3\" >0.025886</td>\n",
              "                        <td id=\"T_a733f086_e16b_11eb_99e5_0242ac1c0002row12_col4\" class=\"data row12 col4\" >-0.014673</td>\n",
              "                        <td id=\"T_a733f086_e16b_11eb_99e5_0242ac1c0002row12_col5\" class=\"data row12 col5\" >0.101909</td>\n",
              "                        <td id=\"T_a733f086_e16b_11eb_99e5_0242ac1c0002row12_col6\" class=\"data row12 col6\" >-0.050333</td>\n",
              "                        <td id=\"T_a733f086_e16b_11eb_99e5_0242ac1c0002row12_col7\" class=\"data row12 col7\" >0.097778</td>\n",
              "                        <td id=\"T_a733f086_e16b_11eb_99e5_0242ac1c0002row12_col8\" class=\"data row12 col8\" >0.004121</td>\n",
              "                        <td id=\"T_a733f086_e16b_11eb_99e5_0242ac1c0002row12_col9\" class=\"data row12 col9\" >0.040651</td>\n",
              "                        <td id=\"T_a733f086_e16b_11eb_99e5_0242ac1c0002row12_col10\" class=\"data row12 col10\" >-0.067972</td>\n",
              "                        <td id=\"T_a733f086_e16b_11eb_99e5_0242ac1c0002row12_col11\" class=\"data row12 col11\" >0.009356</td>\n",
              "                        <td id=\"T_a733f086_e16b_11eb_99e5_0242ac1c0002row12_col12\" class=\"data row12 col12\" >1.000000</td>\n",
              "                        <td id=\"T_a733f086_e16b_11eb_99e5_0242ac1c0002row12_col13\" class=\"data row12 col13\" >0.099577</td>\n",
              "                        <td id=\"T_a733f086_e16b_11eb_99e5_0242ac1c0002row12_col14\" class=\"data row12 col14\" >0.025277</td>\n",
              "                        <td id=\"T_a733f086_e16b_11eb_99e5_0242ac1c0002row12_col15\" class=\"data row12 col15\" >-0.017251</td>\n",
              "                        <td id=\"T_a733f086_e16b_11eb_99e5_0242ac1c0002row12_col16\" class=\"data row12 col16\" >-0.061885</td>\n",
              "                        <td id=\"T_a733f086_e16b_11eb_99e5_0242ac1c0002row12_col17\" class=\"data row12 col17\" >-0.027603</td>\n",
              "                        <td id=\"T_a733f086_e16b_11eb_99e5_0242ac1c0002row12_col18\" class=\"data row12 col18\" >nan</td>\n",
              "                        <td id=\"T_a733f086_e16b_11eb_99e5_0242ac1c0002row12_col19\" class=\"data row12 col19\" >nan</td>\n",
              "                        <td id=\"T_a733f086_e16b_11eb_99e5_0242ac1c0002row12_col20\" class=\"data row12 col20\" >-0.003367</td>\n",
              "            </tr>\n",
              "            <tr>\n",
              "                        <th id=\"T_a733f086_e16b_11eb_99e5_0242ac1c0002level0_row13\" class=\"row_heading level0 row13\" >Abroad travel</th>\n",
              "                        <td id=\"T_a733f086_e16b_11eb_99e5_0242ac1c0002row13_col0\" class=\"data row13 col0\" >0.117795</td>\n",
              "                        <td id=\"T_a733f086_e16b_11eb_99e5_0242ac1c0002row13_col1\" class=\"data row13 col1\" >0.128726</td>\n",
              "                        <td id=\"T_a733f086_e16b_11eb_99e5_0242ac1c0002row13_col2\" class=\"data row13 col2\" >0.331418</td>\n",
              "                        <td id=\"T_a733f086_e16b_11eb_99e5_0242ac1c0002row13_col3\" class=\"data row13 col3\" >0.205986</td>\n",
              "                        <td id=\"T_a733f086_e16b_11eb_99e5_0242ac1c0002row13_col4\" class=\"data row13 col4\" >0.034526</td>\n",
              "                        <td id=\"T_a733f086_e16b_11eb_99e5_0242ac1c0002row13_col5\" class=\"data row13 col5\" >0.068286</td>\n",
              "                        <td id=\"T_a733f086_e16b_11eb_99e5_0242ac1c0002row13_col6\" class=\"data row13 col6\" >-0.088854</td>\n",
              "                        <td id=\"T_a733f086_e16b_11eb_99e5_0242ac1c0002row13_col7\" class=\"data row13 col7\" >0.043589</td>\n",
              "                        <td id=\"T_a733f086_e16b_11eb_99e5_0242ac1c0002row13_col8\" class=\"data row13 col8\" >-0.020761</td>\n",
              "                        <td id=\"T_a733f086_e16b_11eb_99e5_0242ac1c0002row13_col9\" class=\"data row13 col9\" >0.039013</td>\n",
              "                        <td id=\"T_a733f086_e16b_11eb_99e5_0242ac1c0002row13_col10\" class=\"data row13 col10\" >-0.016382</td>\n",
              "                        <td id=\"T_a733f086_e16b_11eb_99e5_0242ac1c0002row13_col11\" class=\"data row13 col11\" >-0.068401</td>\n",
              "                        <td id=\"T_a733f086_e16b_11eb_99e5_0242ac1c0002row13_col12\" class=\"data row13 col12\" >0.099577</td>\n",
              "                        <td id=\"T_a733f086_e16b_11eb_99e5_0242ac1c0002row13_col13\" class=\"data row13 col13\" >1.000000</td>\n",
              "                        <td id=\"T_a733f086_e16b_11eb_99e5_0242ac1c0002row13_col14\" class=\"data row13 col14\" >0.080210</td>\n",
              "                        <td id=\"T_a733f086_e16b_11eb_99e5_0242ac1c0002row13_col15\" class=\"data row13 col15\" >0.113399</td>\n",
              "                        <td id=\"T_a733f086_e16b_11eb_99e5_0242ac1c0002row13_col16\" class=\"data row13 col16\" >0.069609</td>\n",
              "                        <td id=\"T_a733f086_e16b_11eb_99e5_0242ac1c0002row13_col17\" class=\"data row13 col17\" >0.143094</td>\n",
              "                        <td id=\"T_a733f086_e16b_11eb_99e5_0242ac1c0002row13_col18\" class=\"data row13 col18\" >nan</td>\n",
              "                        <td id=\"T_a733f086_e16b_11eb_99e5_0242ac1c0002row13_col19\" class=\"data row13 col19\" >nan</td>\n",
              "                        <td id=\"T_a733f086_e16b_11eb_99e5_0242ac1c0002row13_col20\" class=\"data row13 col20\" >0.443875</td>\n",
              "            </tr>\n",
              "            <tr>\n",
              "                        <th id=\"T_a733f086_e16b_11eb_99e5_0242ac1c0002level0_row14\" class=\"row_heading level0 row14\" >Contact with COVID Patient</th>\n",
              "                        <td id=\"T_a733f086_e16b_11eb_99e5_0242ac1c0002row14_col0\" class=\"data row14 col0\" >0.214634</td>\n",
              "                        <td id=\"T_a733f086_e16b_11eb_99e5_0242ac1c0002row14_col1\" class=\"data row14 col1\" >0.164704</td>\n",
              "                        <td id=\"T_a733f086_e16b_11eb_99e5_0242ac1c0002row14_col2\" class=\"data row14 col2\" >0.128330</td>\n",
              "                        <td id=\"T_a733f086_e16b_11eb_99e5_0242ac1c0002row14_col3\" class=\"data row14 col3\" >0.189251</td>\n",
              "                        <td id=\"T_a733f086_e16b_11eb_99e5_0242ac1c0002row14_col4\" class=\"data row14 col4\" >0.003776</td>\n",
              "                        <td id=\"T_a733f086_e16b_11eb_99e5_0242ac1c0002row14_col5\" class=\"data row14 col5\" >0.005046</td>\n",
              "                        <td id=\"T_a733f086_e16b_11eb_99e5_0242ac1c0002row14_col6\" class=\"data row14 col6\" >-0.062482</td>\n",
              "                        <td id=\"T_a733f086_e16b_11eb_99e5_0242ac1c0002row14_col7\" class=\"data row14 col7\" >-0.082101</td>\n",
              "                        <td id=\"T_a733f086_e16b_11eb_99e5_0242ac1c0002row14_col8\" class=\"data row14 col8\" >-0.025593</td>\n",
              "                        <td id=\"T_a733f086_e16b_11eb_99e5_0242ac1c0002row14_col9\" class=\"data row14 col9\" >-0.085696</td>\n",
              "                        <td id=\"T_a733f086_e16b_11eb_99e5_0242ac1c0002row14_col10\" class=\"data row14 col10\" >0.027307</td>\n",
              "                        <td id=\"T_a733f086_e16b_11eb_99e5_0242ac1c0002row14_col11\" class=\"data row14 col11\" >-0.027383</td>\n",
              "                        <td id=\"T_a733f086_e16b_11eb_99e5_0242ac1c0002row14_col12\" class=\"data row14 col12\" >0.025277</td>\n",
              "                        <td id=\"T_a733f086_e16b_11eb_99e5_0242ac1c0002row14_col13\" class=\"data row14 col13\" >0.080210</td>\n",
              "                        <td id=\"T_a733f086_e16b_11eb_99e5_0242ac1c0002row14_col14\" class=\"data row14 col14\" >1.000000</td>\n",
              "                        <td id=\"T_a733f086_e16b_11eb_99e5_0242ac1c0002row14_col15\" class=\"data row14 col15\" >0.234649</td>\n",
              "                        <td id=\"T_a733f086_e16b_11eb_99e5_0242ac1c0002row14_col16\" class=\"data row14 col16\" >0.079800</td>\n",
              "                        <td id=\"T_a733f086_e16b_11eb_99e5_0242ac1c0002row14_col17\" class=\"data row14 col17\" >0.006909</td>\n",
              "                        <td id=\"T_a733f086_e16b_11eb_99e5_0242ac1c0002row14_col18\" class=\"data row14 col18\" >nan</td>\n",
              "                        <td id=\"T_a733f086_e16b_11eb_99e5_0242ac1c0002row14_col19\" class=\"data row14 col19\" >nan</td>\n",
              "                        <td id=\"T_a733f086_e16b_11eb_99e5_0242ac1c0002row14_col20\" class=\"data row14 col20\" >0.357122</td>\n",
              "            </tr>\n",
              "            <tr>\n",
              "                        <th id=\"T_a733f086_e16b_11eb_99e5_0242ac1c0002level0_row15\" class=\"row_heading level0 row15\" >Attended Large Gathering</th>\n",
              "                        <td id=\"T_a733f086_e16b_11eb_99e5_0242ac1c0002row15_col0\" class=\"data row15 col0\" >0.200304</td>\n",
              "                        <td id=\"T_a733f086_e16b_11eb_99e5_0242ac1c0002row15_col1\" class=\"data row15 col1\" >0.070490</td>\n",
              "                        <td id=\"T_a733f086_e16b_11eb_99e5_0242ac1c0002row15_col2\" class=\"data row15 col2\" >0.117963</td>\n",
              "                        <td id=\"T_a733f086_e16b_11eb_99e5_0242ac1c0002row15_col3\" class=\"data row15 col3\" >0.216438</td>\n",
              "                        <td id=\"T_a733f086_e16b_11eb_99e5_0242ac1c0002row15_col4\" class=\"data row15 col4\" >0.061099</td>\n",
              "                        <td id=\"T_a733f086_e16b_11eb_99e5_0242ac1c0002row15_col5\" class=\"data row15 col5\" >-0.044592</td>\n",
              "                        <td id=\"T_a733f086_e16b_11eb_99e5_0242ac1c0002row15_col6\" class=\"data row15 col6\" >-0.020548</td>\n",
              "                        <td id=\"T_a733f086_e16b_11eb_99e5_0242ac1c0002row15_col7\" class=\"data row15 col7\" >-0.162992</td>\n",
              "                        <td id=\"T_a733f086_e16b_11eb_99e5_0242ac1c0002row15_col8\" class=\"data row15 col8\" >-0.045437</td>\n",
              "                        <td id=\"T_a733f086_e16b_11eb_99e5_0242ac1c0002row15_col9\" class=\"data row15 col9\" >-0.061650</td>\n",
              "                        <td id=\"T_a733f086_e16b_11eb_99e5_0242ac1c0002row15_col10\" class=\"data row15 col10\" >0.002911</td>\n",
              "                        <td id=\"T_a733f086_e16b_11eb_99e5_0242ac1c0002row15_col11\" class=\"data row15 col11\" >-0.031058</td>\n",
              "                        <td id=\"T_a733f086_e16b_11eb_99e5_0242ac1c0002row15_col12\" class=\"data row15 col12\" >-0.017251</td>\n",
              "                        <td id=\"T_a733f086_e16b_11eb_99e5_0242ac1c0002row15_col13\" class=\"data row15 col13\" >0.113399</td>\n",
              "                        <td id=\"T_a733f086_e16b_11eb_99e5_0242ac1c0002row15_col14\" class=\"data row15 col14\" >0.234649</td>\n",
              "                        <td id=\"T_a733f086_e16b_11eb_99e5_0242ac1c0002row15_col15\" class=\"data row15 col15\" >1.000000</td>\n",
              "                        <td id=\"T_a733f086_e16b_11eb_99e5_0242ac1c0002row15_col16\" class=\"data row15 col16\" >0.083795</td>\n",
              "                        <td id=\"T_a733f086_e16b_11eb_99e5_0242ac1c0002row15_col17\" class=\"data row15 col17\" >0.063776</td>\n",
              "                        <td id=\"T_a733f086_e16b_11eb_99e5_0242ac1c0002row15_col18\" class=\"data row15 col18\" >nan</td>\n",
              "                        <td id=\"T_a733f086_e16b_11eb_99e5_0242ac1c0002row15_col19\" class=\"data row15 col19\" >nan</td>\n",
              "                        <td id=\"T_a733f086_e16b_11eb_99e5_0242ac1c0002row15_col20\" class=\"data row15 col20\" >0.390145</td>\n",
              "            </tr>\n",
              "            <tr>\n",
              "                        <th id=\"T_a733f086_e16b_11eb_99e5_0242ac1c0002level0_row16\" class=\"row_heading level0 row16\" >Visited Public Exposed Places</th>\n",
              "                        <td id=\"T_a733f086_e16b_11eb_99e5_0242ac1c0002row16_col0\" class=\"data row16 col0\" >0.066688</td>\n",
              "                        <td id=\"T_a733f086_e16b_11eb_99e5_0242ac1c0002row16_col1\" class=\"data row16 col1\" >0.002252</td>\n",
              "                        <td id=\"T_a733f086_e16b_11eb_99e5_0242ac1c0002row16_col2\" class=\"data row16 col2\" >0.086176</td>\n",
              "                        <td id=\"T_a733f086_e16b_11eb_99e5_0242ac1c0002row16_col3\" class=\"data row16 col3\" >0.079055</td>\n",
              "                        <td id=\"T_a733f086_e16b_11eb_99e5_0242ac1c0002row16_col4\" class=\"data row16 col4\" >0.032568</td>\n",
              "                        <td id=\"T_a733f086_e16b_11eb_99e5_0242ac1c0002row16_col5\" class=\"data row16 col5\" >0.020941</td>\n",
              "                        <td id=\"T_a733f086_e16b_11eb_99e5_0242ac1c0002row16_col6\" class=\"data row16 col6\" >-0.093049</td>\n",
              "                        <td id=\"T_a733f086_e16b_11eb_99e5_0242ac1c0002row16_col7\" class=\"data row16 col7\" >-0.005790</td>\n",
              "                        <td id=\"T_a733f086_e16b_11eb_99e5_0242ac1c0002row16_col8\" class=\"data row16 col8\" >0.086169</td>\n",
              "                        <td id=\"T_a733f086_e16b_11eb_99e5_0242ac1c0002row16_col9\" class=\"data row16 col9\" >-0.078212</td>\n",
              "                        <td id=\"T_a733f086_e16b_11eb_99e5_0242ac1c0002row16_col10\" class=\"data row16 col10\" >0.019174</td>\n",
              "                        <td id=\"T_a733f086_e16b_11eb_99e5_0242ac1c0002row16_col11\" class=\"data row16 col11\" >-0.009562</td>\n",
              "                        <td id=\"T_a733f086_e16b_11eb_99e5_0242ac1c0002row16_col12\" class=\"data row16 col12\" >-0.061885</td>\n",
              "                        <td id=\"T_a733f086_e16b_11eb_99e5_0242ac1c0002row16_col13\" class=\"data row16 col13\" >0.069609</td>\n",
              "                        <td id=\"T_a733f086_e16b_11eb_99e5_0242ac1c0002row16_col14\" class=\"data row16 col14\" >0.079800</td>\n",
              "                        <td id=\"T_a733f086_e16b_11eb_99e5_0242ac1c0002row16_col15\" class=\"data row16 col15\" >0.083795</td>\n",
              "                        <td id=\"T_a733f086_e16b_11eb_99e5_0242ac1c0002row16_col16\" class=\"data row16 col16\" >1.000000</td>\n",
              "                        <td id=\"T_a733f086_e16b_11eb_99e5_0242ac1c0002row16_col17\" class=\"data row16 col17\" >0.028486</td>\n",
              "                        <td id=\"T_a733f086_e16b_11eb_99e5_0242ac1c0002row16_col18\" class=\"data row16 col18\" >nan</td>\n",
              "                        <td id=\"T_a733f086_e16b_11eb_99e5_0242ac1c0002row16_col19\" class=\"data row16 col19\" >nan</td>\n",
              "                        <td id=\"T_a733f086_e16b_11eb_99e5_0242ac1c0002row16_col20\" class=\"data row16 col20\" >0.119755</td>\n",
              "            </tr>\n",
              "            <tr>\n",
              "                        <th id=\"T_a733f086_e16b_11eb_99e5_0242ac1c0002level0_row17\" class=\"row_heading level0 row17\" >Family working in Public Exposed Places</th>\n",
              "                        <td id=\"T_a733f086_e16b_11eb_99e5_0242ac1c0002row17_col0\" class=\"data row17 col0\" >0.018295</td>\n",
              "                        <td id=\"T_a733f086_e16b_11eb_99e5_0242ac1c0002row17_col1\" class=\"data row17 col1\" >0.012102</td>\n",
              "                        <td id=\"T_a733f086_e16b_11eb_99e5_0242ac1c0002row17_col2\" class=\"data row17 col2\" >0.163102</td>\n",
              "                        <td id=\"T_a733f086_e16b_11eb_99e5_0242ac1c0002row17_col3\" class=\"data row17 col3\" >0.104378</td>\n",
              "                        <td id=\"T_a733f086_e16b_11eb_99e5_0242ac1c0002row17_col4\" class=\"data row17 col4\" >-0.061323</td>\n",
              "                        <td id=\"T_a733f086_e16b_11eb_99e5_0242ac1c0002row17_col5\" class=\"data row17 col5\" >-0.115679</td>\n",
              "                        <td id=\"T_a733f086_e16b_11eb_99e5_0242ac1c0002row17_col6\" class=\"data row17 col6\" >0.038343</td>\n",
              "                        <td id=\"T_a733f086_e16b_11eb_99e5_0242ac1c0002row17_col7\" class=\"data row17 col7\" >-0.012625</td>\n",
              "                        <td id=\"T_a733f086_e16b_11eb_99e5_0242ac1c0002row17_col8\" class=\"data row17 col8\" >0.035000</td>\n",
              "                        <td id=\"T_a733f086_e16b_11eb_99e5_0242ac1c0002row17_col9\" class=\"data row17 col9\" >0.097696</td>\n",
              "                        <td id=\"T_a733f086_e16b_11eb_99e5_0242ac1c0002row17_col10\" class=\"data row17 col10\" >0.048152</td>\n",
              "                        <td id=\"T_a733f086_e16b_11eb_99e5_0242ac1c0002row17_col11\" class=\"data row17 col11\" >-0.025623</td>\n",
              "                        <td id=\"T_a733f086_e16b_11eb_99e5_0242ac1c0002row17_col12\" class=\"data row17 col12\" >-0.027603</td>\n",
              "                        <td id=\"T_a733f086_e16b_11eb_99e5_0242ac1c0002row17_col13\" class=\"data row17 col13\" >0.143094</td>\n",
              "                        <td id=\"T_a733f086_e16b_11eb_99e5_0242ac1c0002row17_col14\" class=\"data row17 col14\" >0.006909</td>\n",
              "                        <td id=\"T_a733f086_e16b_11eb_99e5_0242ac1c0002row17_col15\" class=\"data row17 col15\" >0.063776</td>\n",
              "                        <td id=\"T_a733f086_e16b_11eb_99e5_0242ac1c0002row17_col16\" class=\"data row17 col16\" >0.028486</td>\n",
              "                        <td id=\"T_a733f086_e16b_11eb_99e5_0242ac1c0002row17_col17\" class=\"data row17 col17\" >1.000000</td>\n",
              "                        <td id=\"T_a733f086_e16b_11eb_99e5_0242ac1c0002row17_col18\" class=\"data row17 col18\" >nan</td>\n",
              "                        <td id=\"T_a733f086_e16b_11eb_99e5_0242ac1c0002row17_col19\" class=\"data row17 col19\" >nan</td>\n",
              "                        <td id=\"T_a733f086_e16b_11eb_99e5_0242ac1c0002row17_col20\" class=\"data row17 col20\" >0.160208</td>\n",
              "            </tr>\n",
              "            <tr>\n",
              "                        <th id=\"T_a733f086_e16b_11eb_99e5_0242ac1c0002level0_row18\" class=\"row_heading level0 row18\" >Wearing Masks</th>\n",
              "                        <td id=\"T_a733f086_e16b_11eb_99e5_0242ac1c0002row18_col0\" class=\"data row18 col0\" >nan</td>\n",
              "                        <td id=\"T_a733f086_e16b_11eb_99e5_0242ac1c0002row18_col1\" class=\"data row18 col1\" >nan</td>\n",
              "                        <td id=\"T_a733f086_e16b_11eb_99e5_0242ac1c0002row18_col2\" class=\"data row18 col2\" >nan</td>\n",
              "                        <td id=\"T_a733f086_e16b_11eb_99e5_0242ac1c0002row18_col3\" class=\"data row18 col3\" >nan</td>\n",
              "                        <td id=\"T_a733f086_e16b_11eb_99e5_0242ac1c0002row18_col4\" class=\"data row18 col4\" >nan</td>\n",
              "                        <td id=\"T_a733f086_e16b_11eb_99e5_0242ac1c0002row18_col5\" class=\"data row18 col5\" >nan</td>\n",
              "                        <td id=\"T_a733f086_e16b_11eb_99e5_0242ac1c0002row18_col6\" class=\"data row18 col6\" >nan</td>\n",
              "                        <td id=\"T_a733f086_e16b_11eb_99e5_0242ac1c0002row18_col7\" class=\"data row18 col7\" >nan</td>\n",
              "                        <td id=\"T_a733f086_e16b_11eb_99e5_0242ac1c0002row18_col8\" class=\"data row18 col8\" >nan</td>\n",
              "                        <td id=\"T_a733f086_e16b_11eb_99e5_0242ac1c0002row18_col9\" class=\"data row18 col9\" >nan</td>\n",
              "                        <td id=\"T_a733f086_e16b_11eb_99e5_0242ac1c0002row18_col10\" class=\"data row18 col10\" >nan</td>\n",
              "                        <td id=\"T_a733f086_e16b_11eb_99e5_0242ac1c0002row18_col11\" class=\"data row18 col11\" >nan</td>\n",
              "                        <td id=\"T_a733f086_e16b_11eb_99e5_0242ac1c0002row18_col12\" class=\"data row18 col12\" >nan</td>\n",
              "                        <td id=\"T_a733f086_e16b_11eb_99e5_0242ac1c0002row18_col13\" class=\"data row18 col13\" >nan</td>\n",
              "                        <td id=\"T_a733f086_e16b_11eb_99e5_0242ac1c0002row18_col14\" class=\"data row18 col14\" >nan</td>\n",
              "                        <td id=\"T_a733f086_e16b_11eb_99e5_0242ac1c0002row18_col15\" class=\"data row18 col15\" >nan</td>\n",
              "                        <td id=\"T_a733f086_e16b_11eb_99e5_0242ac1c0002row18_col16\" class=\"data row18 col16\" >nan</td>\n",
              "                        <td id=\"T_a733f086_e16b_11eb_99e5_0242ac1c0002row18_col17\" class=\"data row18 col17\" >nan</td>\n",
              "                        <td id=\"T_a733f086_e16b_11eb_99e5_0242ac1c0002row18_col18\" class=\"data row18 col18\" >nan</td>\n",
              "                        <td id=\"T_a733f086_e16b_11eb_99e5_0242ac1c0002row18_col19\" class=\"data row18 col19\" >nan</td>\n",
              "                        <td id=\"T_a733f086_e16b_11eb_99e5_0242ac1c0002row18_col20\" class=\"data row18 col20\" >nan</td>\n",
              "            </tr>\n",
              "            <tr>\n",
              "                        <th id=\"T_a733f086_e16b_11eb_99e5_0242ac1c0002level0_row19\" class=\"row_heading level0 row19\" >Sanitization from Market</th>\n",
              "                        <td id=\"T_a733f086_e16b_11eb_99e5_0242ac1c0002row19_col0\" class=\"data row19 col0\" >nan</td>\n",
              "                        <td id=\"T_a733f086_e16b_11eb_99e5_0242ac1c0002row19_col1\" class=\"data row19 col1\" >nan</td>\n",
              "                        <td id=\"T_a733f086_e16b_11eb_99e5_0242ac1c0002row19_col2\" class=\"data row19 col2\" >nan</td>\n",
              "                        <td id=\"T_a733f086_e16b_11eb_99e5_0242ac1c0002row19_col3\" class=\"data row19 col3\" >nan</td>\n",
              "                        <td id=\"T_a733f086_e16b_11eb_99e5_0242ac1c0002row19_col4\" class=\"data row19 col4\" >nan</td>\n",
              "                        <td id=\"T_a733f086_e16b_11eb_99e5_0242ac1c0002row19_col5\" class=\"data row19 col5\" >nan</td>\n",
              "                        <td id=\"T_a733f086_e16b_11eb_99e5_0242ac1c0002row19_col6\" class=\"data row19 col6\" >nan</td>\n",
              "                        <td id=\"T_a733f086_e16b_11eb_99e5_0242ac1c0002row19_col7\" class=\"data row19 col7\" >nan</td>\n",
              "                        <td id=\"T_a733f086_e16b_11eb_99e5_0242ac1c0002row19_col8\" class=\"data row19 col8\" >nan</td>\n",
              "                        <td id=\"T_a733f086_e16b_11eb_99e5_0242ac1c0002row19_col9\" class=\"data row19 col9\" >nan</td>\n",
              "                        <td id=\"T_a733f086_e16b_11eb_99e5_0242ac1c0002row19_col10\" class=\"data row19 col10\" >nan</td>\n",
              "                        <td id=\"T_a733f086_e16b_11eb_99e5_0242ac1c0002row19_col11\" class=\"data row19 col11\" >nan</td>\n",
              "                        <td id=\"T_a733f086_e16b_11eb_99e5_0242ac1c0002row19_col12\" class=\"data row19 col12\" >nan</td>\n",
              "                        <td id=\"T_a733f086_e16b_11eb_99e5_0242ac1c0002row19_col13\" class=\"data row19 col13\" >nan</td>\n",
              "                        <td id=\"T_a733f086_e16b_11eb_99e5_0242ac1c0002row19_col14\" class=\"data row19 col14\" >nan</td>\n",
              "                        <td id=\"T_a733f086_e16b_11eb_99e5_0242ac1c0002row19_col15\" class=\"data row19 col15\" >nan</td>\n",
              "                        <td id=\"T_a733f086_e16b_11eb_99e5_0242ac1c0002row19_col16\" class=\"data row19 col16\" >nan</td>\n",
              "                        <td id=\"T_a733f086_e16b_11eb_99e5_0242ac1c0002row19_col17\" class=\"data row19 col17\" >nan</td>\n",
              "                        <td id=\"T_a733f086_e16b_11eb_99e5_0242ac1c0002row19_col18\" class=\"data row19 col18\" >nan</td>\n",
              "                        <td id=\"T_a733f086_e16b_11eb_99e5_0242ac1c0002row19_col19\" class=\"data row19 col19\" >nan</td>\n",
              "                        <td id=\"T_a733f086_e16b_11eb_99e5_0242ac1c0002row19_col20\" class=\"data row19 col20\" >nan</td>\n",
              "            </tr>\n",
              "            <tr>\n",
              "                        <th id=\"T_a733f086_e16b_11eb_99e5_0242ac1c0002level0_row20\" class=\"row_heading level0 row20\" >COVID-19</th>\n",
              "                        <td id=\"T_a733f086_e16b_11eb_99e5_0242ac1c0002row20_col0\" class=\"data row20 col0\" >0.443764</td>\n",
              "                        <td id=\"T_a733f086_e16b_11eb_99e5_0242ac1c0002row20_col1\" class=\"data row20 col1\" >0.352891</td>\n",
              "                        <td id=\"T_a733f086_e16b_11eb_99e5_0242ac1c0002row20_col2\" class=\"data row20 col2\" >0.464292</td>\n",
              "                        <td id=\"T_a733f086_e16b_11eb_99e5_0242ac1c0002row20_col3\" class=\"data row20 col3\" >0.502848</td>\n",
              "                        <td id=\"T_a733f086_e16b_11eb_99e5_0242ac1c0002row20_col4\" class=\"data row20 col4\" >-0.005657</td>\n",
              "                        <td id=\"T_a733f086_e16b_11eb_99e5_0242ac1c0002row20_col5\" class=\"data row20 col5\" >0.089930</td>\n",
              "                        <td id=\"T_a733f086_e16b_11eb_99e5_0242ac1c0002row20_col6\" class=\"data row20 col6\" >-0.056837</td>\n",
              "                        <td id=\"T_a733f086_e16b_11eb_99e5_0242ac1c0002row20_col7\" class=\"data row20 col7\" >-0.027793</td>\n",
              "                        <td id=\"T_a733f086_e16b_11eb_99e5_0242ac1c0002row20_col8\" class=\"data row20 col8\" >0.027072</td>\n",
              "                        <td id=\"T_a733f086_e16b_11eb_99e5_0242ac1c0002row20_col9\" class=\"data row20 col9\" >0.040627</td>\n",
              "                        <td id=\"T_a733f086_e16b_11eb_99e5_0242ac1c0002row20_col10\" class=\"data row20 col10\" >0.102575</td>\n",
              "                        <td id=\"T_a733f086_e16b_11eb_99e5_0242ac1c0002row20_col11\" class=\"data row20 col11\" >-0.044188</td>\n",
              "                        <td id=\"T_a733f086_e16b_11eb_99e5_0242ac1c0002row20_col12\" class=\"data row20 col12\" >-0.003367</td>\n",
              "                        <td id=\"T_a733f086_e16b_11eb_99e5_0242ac1c0002row20_col13\" class=\"data row20 col13\" >0.443875</td>\n",
              "                        <td id=\"T_a733f086_e16b_11eb_99e5_0242ac1c0002row20_col14\" class=\"data row20 col14\" >0.357122</td>\n",
              "                        <td id=\"T_a733f086_e16b_11eb_99e5_0242ac1c0002row20_col15\" class=\"data row20 col15\" >0.390145</td>\n",
              "                        <td id=\"T_a733f086_e16b_11eb_99e5_0242ac1c0002row20_col16\" class=\"data row20 col16\" >0.119755</td>\n",
              "                        <td id=\"T_a733f086_e16b_11eb_99e5_0242ac1c0002row20_col17\" class=\"data row20 col17\" >0.160208</td>\n",
              "                        <td id=\"T_a733f086_e16b_11eb_99e5_0242ac1c0002row20_col18\" class=\"data row20 col18\" >nan</td>\n",
              "                        <td id=\"T_a733f086_e16b_11eb_99e5_0242ac1c0002row20_col19\" class=\"data row20 col19\" >nan</td>\n",
              "                        <td id=\"T_a733f086_e16b_11eb_99e5_0242ac1c0002row20_col20\" class=\"data row20 col20\" >1.000000</td>\n",
              "            </tr>\n",
              "    </tbody></table>"
            ],
            "text/plain": [
              "<pandas.io.formats.style.Styler at 0x7f98c4065110>"
            ]
          },
          "metadata": {
            "tags": []
          },
          "execution_count": 8
        }
      ]
    },
    {
      "cell_type": "code",
      "metadata": {
        "id": "rP_KFMLeMseh"
      },
      "source": [
        "df.drop('Wearing Masks',axis= 1,inplace= True)\n",
        "df.drop('Sanitization from Market',axis= 1,inplace= True)\n",
        "df.drop('Running Nose',axis=1,inplace= True)\n",
        "df.drop('Asthma',axis=1,inplace= True)\n",
        "df.drop('Chronic Lung Disease',axis=1,inplace= True)\n",
        "df.drop('Headache',axis=1,inplace= True)\n",
        "df.drop('Fatigue ',axis=1,inplace= True)\n",
        "df.drop('Heart Disease',axis=1,inplace= True)\n",
        "df.drop('Diabetes',axis=1,inplace= True)\n",
        "df.drop('Gastrointestinal ',axis=1,inplace= True)"
      ],
      "execution_count": null,
      "outputs": []
    },
    {
      "cell_type": "code",
      "metadata": {
        "id": "ZkTv8qnzLJPv"
      },
      "source": [
        "df.columns = df.columns.str.replace(' ', '')"
      ],
      "execution_count": null,
      "outputs": []
    },
    {
      "cell_type": "code",
      "metadata": {
        "id": "A7wiLhfALUL4",
        "colab": {
          "base_uri": "https://localhost:8080/"
        },
        "outputId": "c6410431-8499-4606-9271-3e9c785e79dd"
      },
      "source": [
        "df.info()"
      ],
      "execution_count": null,
      "outputs": [
        {
          "output_type": "stream",
          "text": [
            "<class 'pandas.core.frame.DataFrame'>\n",
            "RangeIndex: 5434 entries, 0 to 5433\n",
            "Data columns (total 11 columns):\n",
            " #   Column                              Non-Null Count  Dtype\n",
            "---  ------                              --------------  -----\n",
            " 0   BreathingProblem                    5434 non-null   int64\n",
            " 1   Fever                               5434 non-null   int64\n",
            " 2   DryCough                            5434 non-null   int64\n",
            " 3   Sorethroat                          5434 non-null   int64\n",
            " 4   HyperTension                        5434 non-null   int64\n",
            " 5   Abroadtravel                        5434 non-null   int64\n",
            " 6   ContactwithCOVIDPatient             5434 non-null   int64\n",
            " 7   AttendedLargeGathering              5434 non-null   int64\n",
            " 8   VisitedPublicExposedPlaces          5434 non-null   int64\n",
            " 9   FamilyworkinginPublicExposedPlaces  5434 non-null   int64\n",
            " 10  COVID-19                            5434 non-null   int64\n",
            "dtypes: int64(11)\n",
            "memory usage: 467.1 KB\n"
          ],
          "name": "stdout"
        }
      ]
    },
    {
      "cell_type": "code",
      "metadata": {
        "id": "qrYb6hP-LWJu"
      },
      "source": [
        "from sklearn.model_selection import train_test_split\n",
        "import numpy as np\n",
        "features = df[['BreathingProblem','Fever','DryCough','Sorethroat','HyperTension','Abroadtravel','ContactwithCOVIDPatient','AttendedLargeGathering','VisitedPublicExposedPlaces','FamilyworkinginPublicExposedPlaces']]\n",
        "label = df['COVID-19']"
      ],
      "execution_count": null,
      "outputs": []
    },
    {
      "cell_type": "code",
      "metadata": {
        "id": "It8IJng0LYr5"
      },
      "source": [
        "train_x_df,test_x_df, train_y_df, test_y_df = train_test_split(features,label,test_size=0.30,random_state=10)\n",
        "train_df = pd.concat([train_x_df,train_y_df],axis=1)\n",
        "test_df = pd.concat([test_x_df,test_y_df],axis=1)"
      ],
      "execution_count": null,
      "outputs": []
    },
    {
      "cell_type": "code",
      "metadata": {
        "id": "TE6IhAtWLasN",
        "colab": {
          "base_uri": "https://localhost:8080/"
        },
        "outputId": "44202a5e-47b3-439a-8986-16556ee22582"
      },
      "source": [
        "train_df.info()"
      ],
      "execution_count": null,
      "outputs": [
        {
          "output_type": "stream",
          "text": [
            "<class 'pandas.core.frame.DataFrame'>\n",
            "Int64Index: 3803 entries, 1102 to 1289\n",
            "Data columns (total 11 columns):\n",
            " #   Column                              Non-Null Count  Dtype\n",
            "---  ------                              --------------  -----\n",
            " 0   BreathingProblem                    3803 non-null   int64\n",
            " 1   Fever                               3803 non-null   int64\n",
            " 2   DryCough                            3803 non-null   int64\n",
            " 3   Sorethroat                          3803 non-null   int64\n",
            " 4   HyperTension                        3803 non-null   int64\n",
            " 5   Abroadtravel                        3803 non-null   int64\n",
            " 6   ContactwithCOVIDPatient             3803 non-null   int64\n",
            " 7   AttendedLargeGathering              3803 non-null   int64\n",
            " 8   VisitedPublicExposedPlaces          3803 non-null   int64\n",
            " 9   FamilyworkinginPublicExposedPlaces  3803 non-null   int64\n",
            " 10  COVID-19                            3803 non-null   int64\n",
            "dtypes: int64(11)\n",
            "memory usage: 356.5 KB\n"
          ],
          "name": "stdout"
        }
      ]
    },
    {
      "cell_type": "code",
      "metadata": {
        "id": "fsTjA5B8Lcu8",
        "colab": {
          "base_uri": "https://localhost:8080/"
        },
        "outputId": "67da3683-09cc-4b61-d704-0ced52482421"
      },
      "source": [
        "test_df.info()"
      ],
      "execution_count": null,
      "outputs": [
        {
          "output_type": "stream",
          "text": [
            "<class 'pandas.core.frame.DataFrame'>\n",
            "Int64Index: 1631 entries, 1094 to 3032\n",
            "Data columns (total 11 columns):\n",
            " #   Column                              Non-Null Count  Dtype\n",
            "---  ------                              --------------  -----\n",
            " 0   BreathingProblem                    1631 non-null   int64\n",
            " 1   Fever                               1631 non-null   int64\n",
            " 2   DryCough                            1631 non-null   int64\n",
            " 3   Sorethroat                          1631 non-null   int64\n",
            " 4   HyperTension                        1631 non-null   int64\n",
            " 5   Abroadtravel                        1631 non-null   int64\n",
            " 6   ContactwithCOVIDPatient             1631 non-null   int64\n",
            " 7   AttendedLargeGathering              1631 non-null   int64\n",
            " 8   VisitedPublicExposedPlaces          1631 non-null   int64\n",
            " 9   FamilyworkinginPublicExposedPlaces  1631 non-null   int64\n",
            " 10  COVID-19                            1631 non-null   int64\n",
            "dtypes: int64(11)\n",
            "memory usage: 152.9 KB\n"
          ],
          "name": "stdout"
        }
      ]
    },
    {
      "cell_type": "code",
      "metadata": {
        "id": "q8Pmbh-PLcyM"
      },
      "source": [
        "import tensorflow_decision_forests as tfdf"
      ],
      "execution_count": null,
      "outputs": []
    },
    {
      "cell_type": "markdown",
      "metadata": {
        "id": "O4DAt6wKLiw7"
      },
      "source": [
        "Training"
      ]
    },
    {
      "cell_type": "code",
      "metadata": {
        "id": "w6FedydGLkXj"
      },
      "source": [
        "train_tf = tfdf.keras.pd_dataframe_to_tf_dataset(train_df, label=\"COVID-19\")\n",
        "test_tf = tfdf.keras.pd_dataframe_to_tf_dataset(test_df, label=\"COVID-19\")"
      ],
      "execution_count": null,
      "outputs": []
    },
    {
      "cell_type": "code",
      "metadata": {
        "id": "9p_vSt5YLmfV",
        "colab": {
          "base_uri": "https://localhost:8080/"
        },
        "outputId": "dae5d2f2-0afe-4e7a-8f48-65dec6410d88"
      },
      "source": [
        "tfdf.keras.get_all_models() "
      ],
      "execution_count": null,
      "outputs": [
        {
          "output_type": "execute_result",
          "data": {
            "text/plain": [
              "[tensorflow_decision_forests.keras.RandomForestModel,\n",
              " tensorflow_decision_forests.keras.GradientBoostedTreesModel,\n",
              " tensorflow_decision_forests.keras.CartModel]"
            ]
          },
          "metadata": {
            "tags": []
          },
          "execution_count": 18
        }
      ]
    },
    {
      "cell_type": "code",
      "metadata": {
        "id": "-BO_Fgj5Losk",
        "colab": {
          "base_uri": "https://localhost:8080/"
        },
        "outputId": "1fda946f-cb85-415c-db11-fe941991d157"
      },
      "source": [
        "model = tfdf.keras.RandomForestModel(num_trees=150)\n",
        "model.fit(train_tf)\n",
        "model.compile(metrics=[\"accuracy\"])\n",
        "model.evaluate(test_tf)"
      ],
      "execution_count": null,
      "outputs": [
        {
          "output_type": "stream",
          "text": [
            "60/60 [==============================] - 5s 2ms/step\n",
            "26/26 [==============================] - 0s 2ms/step - loss: 0.0000e+00 - accuracy: 0.8148\n"
          ],
          "name": "stdout"
        },
        {
          "output_type": "execute_result",
          "data": {
            "text/plain": [
              "[0.0, 0.8148375153541565]"
            ]
          },
          "metadata": {
            "tags": []
          },
          "execution_count": 19
        }
      ]
    },
    {
      "cell_type": "code",
      "metadata": {
        "id": "nqjCIl44L2EV",
        "colab": {
          "base_uri": "https://localhost:8080/",
          "height": 500
        },
        "outputId": "1c4a50d6-efc2-4d61-cfb4-7699fa6984ad"
      },
      "source": [
        "import matplotlib.pyplot as plt\n",
        "model.make_inspector().evaluation()\n",
        "\n",
        "logs = model.make_inspector().training_logs()\n",
        "\n",
        "plt.figure(figsize=(24, 8))\n",
        "\n",
        "plt.subplot(1, 2, 1)\n",
        "plt.plot([log.num_trees for log in logs], [log.evaluation.accuracy for log in logs])\n",
        "plt.xlabel(\"Number of trees\")\n",
        "plt.ylabel(\"Accuracy (out-of-bag)\")\n",
        "\n",
        "plt.show()"
      ],
      "execution_count": null,
      "outputs": [
        {
          "output_type": "display_data",
          "data": {
            "image/png": "[encoded data removed]",
            "text/plain": [
              "<Figure size 1728x576 with 1 Axes>"
            ]
          },
          "metadata": {
            "tags": [],
            "needs_background": "light"
          }
        }
      ]
    },
    {
      "cell_type": "code",
      "metadata": {
        "id": "ydbfisIEL48k",
        "colab": {
          "base_uri": "https://localhost:8080/"
        },
        "outputId": "b390fc31-ef73-4e8c-c0b2-5e130e9f0572"
      },
      "source": [
        "model_1 = tfdf.keras.GradientBoostedTreesModel(num_trees=100)\n",
        "model_1.fit(train_tf)\n",
        "\n",
        "model_1.compile(metrics=[\"accuracy\"])\n",
        "acc = model_1.evaluate(test_tf)\n",
        "print('Accuracy: '+str(acc[1]*100))"
      ],
      "execution_count": null,
      "outputs": [
        {
          "output_type": "stream",
          "text": [
            "60/60 [==============================] - 0s 1ms/step\n",
            "26/26 [==============================] - 0s 2ms/step - loss: 0.0000e+00 - accuracy: 0.9693\n",
            "Accuracy: 96.93439602851868\n"
          ],
          "name": "stdout"
        }
      ]
    },
    {
      "cell_type": "code",
      "metadata": {
        "id": "l-whuNseL8Eq",
        "colab": {
          "base_uri": "https://localhost:8080/",
          "height": 497
        },
        "outputId": "d7ad56de-a6f3-473d-bc29-ae3df13f7dba"
      },
      "source": [
        "import matplotlib.pyplot as plt\n",
        "model_1.make_inspector().evaluation()\n",
        "\n",
        "logs = model_1.make_inspector().training_logs()\n",
        "\n",
        "plt.figure(figsize=(24, 8))\n",
        "\n",
        "plt.subplot(1, 2, 1)\n",
        "plt.plot([log.num_trees for log in logs], [log.evaluation.accuracy for log in logs])\n",
        "plt.xlabel(\"Number of trees\")\n",
        "plt.ylabel(\"Accuracy (out-of-bag)\")\n",
        "\n",
        "plt.show()\n"
      ],
      "execution_count": null,
      "outputs": [
        {
          "output_type": "display_data",
          "data": {
            "image/png": "[encoded data removed]",
            "text/plain": [
              "<Figure size 1728x576 with 1 Axes>"
            ]
          },
          "metadata": {
            "tags": [],
            "needs_background": "light"
          }
        }
      ]
    },
    {
      "cell_type": "code",
      "metadata": {
        "id": "hsVhmSSHMA24",
        "colab": {
          "base_uri": "https://localhost:8080/"
        },
        "outputId": "453d20e3-3c81-4a7a-db67-a67754c68eaf"
      },
      "source": [
        "model_3 = tfdf.keras.CartModel()\n",
        "model_3.fit(train_tf)\n",
        "model_3.compile(metrics=[\"accuracy\"])\n",
        "acc = model_3.evaluate(test_tf)\n",
        "print('Accuracy: '+str(acc[1]*100))"
      ],
      "execution_count": null,
      "outputs": [
        {
          "output_type": "stream",
          "text": [
            "60/60 [==============================] - 0s 1ms/step\n",
            "26/26 [==============================] - 0s 2ms/step - loss: 0.0000e+00 - accuracy: 0.9638\n",
            "Accuracy: 96.38258814811707\n"
          ],
          "name": "stdout"
        }
      ]
    },
    {
      "cell_type": "code",
      "metadata": {
        "id": "Kk8q_TzdMDWN"
      },
      "source": [
        "train_x,test_x, train_y, test_y = train_test_split(features,label,test_size=0.2,random_state=10)"
      ],
      "execution_count": null,
      "outputs": []
    },
    {
      "cell_type": "code",
      "metadata": {
        "id": "K7AgPP5oMG-a",
        "colab": {
          "base_uri": "https://localhost:8080/"
        },
        "outputId": "eeac5fcd-4510-48fd-ee98-baefd5c3ce03"
      },
      "source": [
        "from sklearn.linear_model import LogisticRegression\n",
        "model = LogisticRegression()\n",
        "model.fit(train_x,train_y)\n",
        "y_pred = model.predict(test_x)\n",
        "\n",
        "from sklearn.metrics import accuracy_score\n",
        "\n",
        "accuracy_score(test_y, y_pred)\n",
        "print('Accuracy: '+str(accuracy_score(test_y, y_pred)*100))"
      ],
      "execution_count": null,
      "outputs": [
        {
          "output_type": "stream",
          "text": [
            "Accuracy: 97.148114075437\n"
          ],
          "name": "stdout"
        }
      ]
    },
    {
      "cell_type": "code",
      "metadata": {
        "id": "MvUnMA2Tlb4W"
      },
      "source": [
        "import pickle\n",
        "pickle.dump(model,open('model.pkl','wb'))"
      ],
      "execution_count": null,
      "outputs": []
    },
    {
      "cell_type": "code",
      "metadata": {
        "id": "inpQ31BiMHB6",
        "colab": {
          "base_uri": "https://localhost:8080/",
          "height": 100
        },
        "outputId": "5000b20c-5e8c-4295-81d7-4b1a55ed2aea"
      },
      "source": [
        "test_x.head(1)"
      ],
      "execution_count": null,
      "outputs": [
        {
          "output_type": "execute_result",
          "data": {
            "text/html": [
              "<div>\n",
              "<style scoped>\n",
              "    .dataframe tbody tr th:only-of-type {\n",
              "        vertical-align: middle;\n",
              "    }\n",
              "\n",
              "    .dataframe tbody tr th {\n",
              "        vertical-align: top;\n",
              "    }\n",
              "\n",
              "    .dataframe thead th {\n",
              "        text-align: right;\n",
              "    }\n",
              "</style>\n",
              "<table border=\"1\" class=\"dataframe\">\n",
              "  <thead>\n",
              "    <tr style=\"text-align: right;\">\n",
              "      <th></th>\n",
              "      <th>BreathingProblem</th>\n",
              "      <th>Fever</th>\n",
              "      <th>DryCough</th>\n",
              "      <th>Sorethroat</th>\n",
              "      <th>HyperTension</th>\n",
              "      <th>Abroadtravel</th>\n",
              "      <th>ContactwithCOVIDPatient</th>\n",
              "      <th>AttendedLargeGathering</th>\n",
              "      <th>VisitedPublicExposedPlaces</th>\n",
              "      <th>FamilyworkinginPublicExposedPlaces</th>\n",
              "    </tr>\n",
              "  </thead>\n",
              "  <tbody>\n",
              "    <tr>\n",
              "      <th>1094</th>\n",
              "      <td>1</td>\n",
              "      <td>1</td>\n",
              "      <td>1</td>\n",
              "      <td>1</td>\n",
              "      <td>0</td>\n",
              "      <td>1</td>\n",
              "      <td>1</td>\n",
              "      <td>0</td>\n",
              "      <td>1</td>\n",
              "      <td>0</td>\n",
              "    </tr>\n",
              "  </tbody>\n",
              "</table>\n",
              "</div>"
            ],
            "text/plain": [
              "      BreathingProblem  ...  FamilyworkinginPublicExposedPlaces\n",
              "1094                 1  ...                                   0\n",
              "\n",
              "[1 rows x 10 columns]"
            ]
          },
          "metadata": {
            "tags": []
          },
          "execution_count": 27
        }
      ]
    },
    {
      "cell_type": "code",
      "metadata": {
        "id": "OWmZt0XKMM6g",
        "colab": {
          "base_uri": "https://localhost:8080/"
        },
        "outputId": "83d2602c-83f4-41ba-9424-8ab732bdee78"
      },
      "source": [
        "np.array([1,1,1,1,0,1,1,1,1,1,1,1,1,1]).reshape(1,-1)"
      ],
      "execution_count": null,
      "outputs": [
        {
          "output_type": "execute_result",
          "data": {
            "text/plain": [
              "array([[1, 1, 1, 1, 0, 1, 1, 1, 1, 1, 1, 1, 1, 1]])"
            ]
          },
          "metadata": {
            "tags": []
          },
          "execution_count": 28
        }
      ]
    },
    {
      "cell_type": "code",
      "metadata": {
        "id": "VisBWSGaRiHE",
        "colab": {
          "base_uri": "https://localhost:8080/"
        },
        "outputId": "77edc701-e219-4d84-c8bf-ed9f3d32c5f2"
      },
      "source": [
        "train_x.columns"
      ],
      "execution_count": null,
      "outputs": [
        {
          "output_type": "execute_result",
          "data": {
            "text/plain": [
              "Index(['BreathingProblem', 'Fever', 'DryCough', 'Sorethroat', 'HyperTension',\n",
              "       'Abroadtravel', 'ContactwithCOVIDPatient', 'AttendedLargeGathering',\n",
              "       'VisitedPublicExposedPlaces', 'FamilyworkinginPublicExposedPlaces'],\n",
              "      dtype='object')"
            ]
          },
          "metadata": {
            "tags": []
          },
          "execution_count": 29
        }
      ]
    }
  ]
}